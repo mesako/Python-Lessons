{
 "cells": [
  {
   "cell_type": "markdown",
   "metadata": {},
   "source": [
    "# Python Part 1"
   ]
  },
  {
   "cell_type": "markdown",
   "metadata": {},
   "source": [
    "### Getting Started"
   ]
  },
  {
   "cell_type": "code",
   "execution_count": 15,
   "metadata": {},
   "outputs": [
    {
     "name": "stdout",
     "output_type": "stream",
     "text": [
      "hello world\n",
      "hi friends\n"
     ]
    }
   ],
   "source": [
    "# Print Function\n",
    "print(\"hello world\")\n",
    "print(\"hi friends\")"
   ]
  },
  {
   "cell_type": "code",
   "execution_count": 16,
   "metadata": {},
   "outputs": [],
   "source": [
    "# Python as a Calculator"
   ]
  },
  {
   "cell_type": "code",
   "execution_count": 17,
   "metadata": {},
   "outputs": [],
   "source": [
    "# Assigning Variables\n",
    "savenum = 20"
   ]
  },
  {
   "cell_type": "code",
   "execution_count": 18,
   "metadata": {},
   "outputs": [
    {
     "data": {
      "text/plain": [
       "20"
      ]
     },
     "execution_count": 18,
     "metadata": {},
     "output_type": "execute_result"
    }
   ],
   "source": [
    "savenum"
   ]
  },
  {
   "cell_type": "code",
   "execution_count": 19,
   "metadata": {},
   "outputs": [],
   "source": [
    "savetext = \"Melissa\""
   ]
  },
  {
   "cell_type": "code",
   "execution_count": 20,
   "metadata": {},
   "outputs": [
    {
     "data": {
      "text/plain": [
       "'Melissa'"
      ]
     },
     "execution_count": 20,
     "metadata": {},
     "output_type": "execute_result"
    }
   ],
   "source": [
    "savetext"
   ]
  },
  {
   "cell_type": "code",
   "execution_count": 21,
   "metadata": {},
   "outputs": [],
   "source": [
    "mylastname = \"ko\""
   ]
  },
  {
   "cell_type": "code",
   "execution_count": 22,
   "metadata": {},
   "outputs": [],
   "source": [
    "othernum = 10"
   ]
  },
  {
   "cell_type": "code",
   "execution_count": 23,
   "metadata": {},
   "outputs": [
    {
     "data": {
      "text/plain": [
       "200"
      ]
     },
     "execution_count": 23,
     "metadata": {},
     "output_type": "execute_result"
    }
   ],
   "source": [
    "savenum * othernum"
   ]
  },
  {
   "cell_type": "code",
   "execution_count": 24,
   "metadata": {},
   "outputs": [
    {
     "data": {
      "text/plain": [
       "30"
      ]
     },
     "execution_count": 24,
     "metadata": {},
     "output_type": "execute_result"
    }
   ],
   "source": [
    "savenum + othernum"
   ]
  },
  {
   "cell_type": "code",
   "execution_count": 25,
   "metadata": {},
   "outputs": [],
   "source": [
    "# Import Libraries\n",
    "import numpy\n",
    "import os\n",
    "import sys"
   ]
  },
  {
   "cell_type": "code",
   "execution_count": 26,
   "metadata": {},
   "outputs": [
    {
     "name": "stdout",
     "output_type": "stream",
     "text": [
      "Help on function loadtxt in module numpy:\n",
      "\n",
      "loadtxt(fname, dtype=<class 'float'>, comments='#', delimiter=None, converters=None, skiprows=0, usecols=None, unpack=False, ndmin=0, encoding='bytes', max_rows=None)\n",
      "    Load data from a text file.\n",
      "    \n",
      "    Each row in the text file must have the same number of values.\n",
      "    \n",
      "    Parameters\n",
      "    ----------\n",
      "    fname : file, str, or pathlib.Path\n",
      "        File, filename, or generator to read.  If the filename extension is\n",
      "        ``.gz`` or ``.bz2``, the file is first decompressed. Note that\n",
      "        generators should return byte strings for Python 3k.\n",
      "    dtype : data-type, optional\n",
      "        Data-type of the resulting array; default: float.  If this is a\n",
      "        structured data-type, the resulting array will be 1-dimensional, and\n",
      "        each row will be interpreted as an element of the array.  In this\n",
      "        case, the number of columns used must match the number of fields in\n",
      "        the data-type.\n",
      "    comments : str or sequence of str, optional\n",
      "        The characters or list of characters used to indicate the start of a\n",
      "        comment. None implies no comments. For backwards compatibility, byte\n",
      "        strings will be decoded as 'latin1'. The default is '#'.\n",
      "    delimiter : str, optional\n",
      "        The string used to separate values. For backwards compatibility, byte\n",
      "        strings will be decoded as 'latin1'. The default is whitespace.\n",
      "    converters : dict, optional\n",
      "        A dictionary mapping column number to a function that will parse the\n",
      "        column string into the desired value.  E.g., if column 0 is a date\n",
      "        string: ``converters = {0: datestr2num}``.  Converters can also be\n",
      "        used to provide a default value for missing data (but see also\n",
      "        `genfromtxt`): ``converters = {3: lambda s: float(s.strip() or 0)}``.\n",
      "        Default: None.\n",
      "    skiprows : int, optional\n",
      "        Skip the first `skiprows` lines; default: 0.\n",
      "    usecols : int or sequence, optional\n",
      "        Which columns to read, with 0 being the first. For example,\n",
      "        ``usecols = (1,4,5)`` will extract the 2nd, 5th and 6th columns.\n",
      "        The default, None, results in all columns being read.\n",
      "    \n",
      "        .. versionchanged:: 1.11.0\n",
      "            When a single column has to be read it is possible to use\n",
      "            an integer instead of a tuple. E.g ``usecols = 3`` reads the\n",
      "            fourth column the same way as ``usecols = (3,)`` would.\n",
      "    unpack : bool, optional\n",
      "        If True, the returned array is transposed, so that arguments may be\n",
      "        unpacked using ``x, y, z = loadtxt(...)``.  When used with a structured\n",
      "        data-type, arrays are returned for each field.  Default is False.\n",
      "    ndmin : int, optional\n",
      "        The returned array will have at least `ndmin` dimensions.\n",
      "        Otherwise mono-dimensional axes will be squeezed.\n",
      "        Legal values: 0 (default), 1 or 2.\n",
      "    \n",
      "        .. versionadded:: 1.6.0\n",
      "    encoding : str, optional\n",
      "        Encoding used to decode the inputfile. Does not apply to input streams.\n",
      "        The special value 'bytes' enables backward compatibility workarounds\n",
      "        that ensures you receive byte arrays as results if possible and passes\n",
      "        'latin1' encoded strings to converters. Override this value to receive\n",
      "        unicode arrays and pass strings as input to converters.  If set to None\n",
      "        the system default is used. The default value is 'bytes'.\n",
      "    \n",
      "        .. versionadded:: 1.14.0\n",
      "    max_rows : int, optional\n",
      "        Read `max_rows` lines of content after `skiprows` lines. The default\n",
      "        is to read all the lines.\n",
      "    \n",
      "        .. versionadded:: 1.16.0\n",
      "    \n",
      "    Returns\n",
      "    -------\n",
      "    out : ndarray\n",
      "        Data read from the text file.\n",
      "    \n",
      "    See Also\n",
      "    --------\n",
      "    load, fromstring, fromregex\n",
      "    genfromtxt : Load data with missing values handled as specified.\n",
      "    scipy.io.loadmat : reads MATLAB data files\n",
      "    \n",
      "    Notes\n",
      "    -----\n",
      "    This function aims to be a fast reader for simply formatted files.  The\n",
      "    `genfromtxt` function provides more sophisticated handling of, e.g.,\n",
      "    lines with missing values.\n",
      "    \n",
      "    .. versionadded:: 1.10.0\n",
      "    \n",
      "    The strings produced by the Python float.hex method can be used as\n",
      "    input for floats.\n",
      "    \n",
      "    Examples\n",
      "    --------\n",
      "    >>> from io import StringIO   # StringIO behaves like a file object\n",
      "    >>> c = StringIO(u\"0 1\\n2 3\")\n",
      "    >>> np.loadtxt(c)\n",
      "    array([[ 0.,  1.],\n",
      "           [ 2.,  3.]])\n",
      "    \n",
      "    >>> d = StringIO(u\"M 21 72\\nF 35 58\")\n",
      "    >>> np.loadtxt(d, dtype={'names': ('gender', 'age', 'weight'),\n",
      "    ...                      'formats': ('S1', 'i4', 'f4')})\n",
      "    array([('M', 21, 72.0), ('F', 35, 58.0)],\n",
      "          dtype=[('gender', '|S1'), ('age', '<i4'), ('weight', '<f4')])\n",
      "    \n",
      "    >>> c = StringIO(u\"1,0,2\\n3,0,4\")\n",
      "    >>> x, y = np.loadtxt(c, delimiter=',', usecols=(0, 2), unpack=True)\n",
      "    >>> x\n",
      "    array([ 1.,  3.])\n",
      "    >>> y\n",
      "    array([ 2.,  4.])\n",
      "\n"
     ]
    }
   ],
   "source": [
    "# Getting Help\n",
    "help(numpy.loadtxt)"
   ]
  },
  {
   "cell_type": "code",
   "execution_count": 27,
   "metadata": {},
   "outputs": [
    {
     "name": "stdout",
     "output_type": "stream",
     "text": [
      "Help on built-in function print in module builtins:\n",
      "\n",
      "print(...)\n",
      "    print(value, ..., sep=' ', end='\\n', file=sys.stdout, flush=False)\n",
      "    \n",
      "    Prints the values to a stream, or to sys.stdout by default.\n",
      "    Optional keyword arguments:\n",
      "    file:  a file-like object (stream); defaults to the current sys.stdout.\n",
      "    sep:   string inserted between values, default a space.\n",
      "    end:   string appended after the last value, default a newline.\n",
      "    flush: whether to forcibly flush the stream.\n",
      "\n"
     ]
    }
   ],
   "source": [
    "help(print)"
   ]
  },
  {
   "cell_type": "code",
   "execution_count": 28,
   "metadata": {},
   "outputs": [
    {
     "name": "stdout",
     "output_type": "stream",
     "text": [
      "Help on class type in module builtins:\n",
      "\n",
      "class type(object)\n",
      " |  type(object_or_name, bases, dict)\n",
      " |  type(object) -> the object's type\n",
      " |  type(name, bases, dict) -> a new type\n",
      " |  \n",
      " |  Methods defined here:\n",
      " |  \n",
      " |  __call__(self, /, *args, **kwargs)\n",
      " |      Call self as a function.\n",
      " |  \n",
      " |  __delattr__(self, name, /)\n",
      " |      Implement delattr(self, name).\n",
      " |  \n",
      " |  __dir__(self, /)\n",
      " |      Specialized __dir__ implementation for types.\n",
      " |  \n",
      " |  __getattribute__(self, name, /)\n",
      " |      Return getattr(self, name).\n",
      " |  \n",
      " |  __init__(self, /, *args, **kwargs)\n",
      " |      Initialize self.  See help(type(self)) for accurate signature.\n",
      " |  \n",
      " |  __instancecheck__(self, instance, /)\n",
      " |      Check if an object is an instance.\n",
      " |  \n",
      " |  __repr__(self, /)\n",
      " |      Return repr(self).\n",
      " |  \n",
      " |  __setattr__(self, name, value, /)\n",
      " |      Implement setattr(self, name, value).\n",
      " |  \n",
      " |  __sizeof__(self, /)\n",
      " |      Return memory consumption of the type object.\n",
      " |  \n",
      " |  __subclasscheck__(self, subclass, /)\n",
      " |      Check if a class is a subclass.\n",
      " |  \n",
      " |  __subclasses__(self, /)\n",
      " |      Return a list of immediate subclasses.\n",
      " |  \n",
      " |  mro(self, /)\n",
      " |      Return a type's method resolution order.\n",
      " |  \n",
      " |  ----------------------------------------------------------------------\n",
      " |  Class methods defined here:\n",
      " |  \n",
      " |  __prepare__(...)\n",
      " |      __prepare__() -> dict\n",
      " |      used to create the namespace for the class statement\n",
      " |  \n",
      " |  ----------------------------------------------------------------------\n",
      " |  Static methods defined here:\n",
      " |  \n",
      " |  __new__(*args, **kwargs)\n",
      " |      Create and return a new object.  See help(type) for accurate signature.\n",
      " |  \n",
      " |  ----------------------------------------------------------------------\n",
      " |  Data descriptors defined here:\n",
      " |  \n",
      " |  __abstractmethods__\n",
      " |  \n",
      " |  __dict__\n",
      " |  \n",
      " |  __text_signature__\n",
      " |  \n",
      " |  ----------------------------------------------------------------------\n",
      " |  Data and other attributes defined here:\n",
      " |  \n",
      " |  __base__ = <class 'object'>\n",
      " |      The most base type\n",
      " |  \n",
      " |  __bases__ = (<class 'object'>,)\n",
      " |  \n",
      " |  __basicsize__ = 864\n",
      " |  \n",
      " |  __dictoffset__ = 264\n",
      " |  \n",
      " |  __flags__ = 2148291584\n",
      " |  \n",
      " |  __itemsize__ = 40\n",
      " |  \n",
      " |  __mro__ = (<class 'type'>, <class 'object'>)\n",
      " |  \n",
      " |  __weakrefoffset__ = 368\n",
      "\n"
     ]
    }
   ],
   "source": [
    "help(type)"
   ]
  },
  {
   "cell_type": "code",
   "execution_count": 29,
   "metadata": {},
   "outputs": [],
   "source": [
    "type?"
   ]
  },
  {
   "cell_type": "markdown",
   "metadata": {},
   "source": [
    "### Working with Files"
   ]
  },
  {
   "cell_type": "code",
   "execution_count": 31,
   "metadata": {},
   "outputs": [
    {
     "data": {
      "text/plain": [
       "'/Users/melissako/Desktop/Python-Lessons'"
      ]
     },
     "execution_count": 31,
     "metadata": {},
     "output_type": "execute_result"
    }
   ],
   "source": [
    "# Get Working Directory\n",
    "os.getcwd()"
   ]
  },
  {
   "cell_type": "code",
   "execution_count": 33,
   "metadata": {},
   "outputs": [
    {
     "data": {
      "text/plain": [
       "['Untitled.ipynb',\n",
       " 'Python_Part2-Copy1.ipynb',\n",
       " 'Python_Part1_full.ipynb',\n",
       " 'README.md',\n",
       " 'Python_Part1.ipynb',\n",
       " 'Python_Part2_full.ipynb',\n",
       " '.gitignore',\n",
       " '.ipynb_checkpoints',\n",
       " 'Python_Part2.ipynb',\n",
       " '.git',\n",
       " 'data']"
      ]
     },
     "execution_count": 33,
     "metadata": {},
     "output_type": "execute_result"
    }
   ],
   "source": [
    "# Check Files\n",
    "os.listdir()"
   ]
  },
  {
   "cell_type": "code",
   "execution_count": 38,
   "metadata": {},
   "outputs": [
    {
     "data": {
      "text/plain": [
       "'/Users/melissako/Desktop/Python-Lessons'"
      ]
     },
     "execution_count": 38,
     "metadata": {},
     "output_type": "execute_result"
    }
   ],
   "source": [
    "# Load a File\n",
    "os.getcwd()"
   ]
  },
  {
   "cell_type": "code",
   "execution_count": 40,
   "metadata": {},
   "outputs": [
    {
     "data": {
      "text/plain": [
       "['Untitled.ipynb',\n",
       " 'Python_Part2-Copy1.ipynb',\n",
       " 'Python_Part1_full.ipynb',\n",
       " 'README.md',\n",
       " 'Python_Part1.ipynb',\n",
       " 'Python_Part2_full.ipynb',\n",
       " '.gitignore',\n",
       " '.ipynb_checkpoints',\n",
       " 'Python_Part2.ipynb',\n",
       " '.git',\n",
       " 'data']"
      ]
     },
     "execution_count": 40,
     "metadata": {},
     "output_type": "execute_result"
    }
   ],
   "source": [
    "os.listdir()"
   ]
  },
  {
   "cell_type": "code",
   "execution_count": 42,
   "metadata": {},
   "outputs": [
    {
     "data": {
      "text/plain": [
       "['inflammation-05.csv',\n",
       " 'inflammation-11.csv',\n",
       " 'inflammation-10.csv',\n",
       " 'inflammation-04.csv',\n",
       " 'inflammation-12.csv',\n",
       " 'inflammation-06.csv',\n",
       " 'inflammation-07.csv',\n",
       " 'inflammation-03.csv',\n",
       " 'small-02.csv',\n",
       " 'small-03.csv',\n",
       " 'inflammation-02.csv',\n",
       " 'small-01.csv',\n",
       " 'inflammation-01.csv',\n",
       " 'inflammation-09.csv',\n",
       " 'inflammation-08.csv']"
      ]
     },
     "execution_count": 42,
     "metadata": {},
     "output_type": "execute_result"
    }
   ],
   "source": [
    "os.listdir(\"data\")"
   ]
  },
  {
   "cell_type": "code",
   "execution_count": 41,
   "metadata": {
    "scrolled": true
   },
   "outputs": [
    {
     "name": "stdout",
     "output_type": "stream",
     "text": [
      "Help on built-in function listdir in module posix:\n",
      "\n",
      "listdir(path=None)\n",
      "    Return a list containing the names of the files in the directory.\n",
      "    \n",
      "    path can be specified as either str, bytes, or a path-like object.  If path is bytes,\n",
      "      the filenames returned will also be bytes; in all other circumstances\n",
      "      the filenames returned will be str.\n",
      "    If path is None, uses the path='.'.\n",
      "    On some platforms, path may also be specified as an open file descriptor;\\\n",
      "      the file descriptor must refer to a directory.\n",
      "      If this functionality is unavailable, using it raises NotImplementedError.\n",
      "    \n",
      "    The list is in arbitrary order.  It does not include the special\n",
      "    entries '.' and '..' even if they are present in the directory.\n",
      "\n"
     ]
    }
   ],
   "source": [
    "help(os.listdir)"
   ]
  },
  {
   "cell_type": "code",
   "execution_count": 50,
   "metadata": {},
   "outputs": [
    {
     "data": {
      "text/plain": [
       "dtype('float64')"
      ]
     },
     "execution_count": 50,
     "metadata": {},
     "output_type": "execute_result"
    }
   ],
   "source": [
    "data = numpy.loadtxt(fname = \"data/inflammation-01.csv\", delimiter=',')\n",
    "# Check Data Type\n",
    "# Check Data Dimensions\n",
    "data.dtype"
   ]
  },
  {
   "cell_type": "code",
   "execution_count": 55,
   "metadata": {},
   "outputs": [
    {
     "data": {
      "text/plain": [
       "2"
      ]
     },
     "execution_count": 55,
     "metadata": {},
     "output_type": "execute_result"
    }
   ],
   "source": [
    "data.ndim"
   ]
  },
  {
   "cell_type": "code",
   "execution_count": 56,
   "metadata": {},
   "outputs": [
    {
     "data": {
      "text/plain": [
       "6.14875"
      ]
     },
     "execution_count": 56,
     "metadata": {},
     "output_type": "execute_result"
    }
   ],
   "source": [
    "data.mean()"
   ]
  },
  {
   "cell_type": "code",
   "execution_count": 51,
   "metadata": {},
   "outputs": [
    {
     "data": {
      "text/plain": [
       "(60, 40)"
      ]
     },
     "execution_count": 51,
     "metadata": {},
     "output_type": "execute_result"
    }
   ],
   "source": [
    "data.shape"
   ]
  },
  {
   "cell_type": "code",
   "execution_count": 54,
   "metadata": {},
   "outputs": [],
   "source": [
    "numpy.ndarray?"
   ]
  },
  {
   "cell_type": "code",
   "execution_count": 48,
   "metadata": {},
   "outputs": [
    {
     "data": {
      "text/plain": [
       "array([[0., 0., 1., ..., 3., 0., 0.],\n",
       "       [0., 1., 2., ..., 1., 0., 1.],\n",
       "       [0., 1., 1., ..., 2., 1., 1.],\n",
       "       ...,\n",
       "       [0., 1., 1., ..., 1., 1., 1.],\n",
       "       [0., 0., 0., ..., 0., 2., 0.],\n",
       "       [0., 0., 1., ..., 1., 1., 0.]])"
      ]
     },
     "execution_count": 48,
     "metadata": {},
     "output_type": "execute_result"
    }
   ],
   "source": [
    "data"
   ]
  },
  {
   "cell_type": "code",
   "execution_count": 57,
   "metadata": {},
   "outputs": [
    {
     "data": {
      "text/plain": [
       "1.0"
      ]
     },
     "execution_count": 57,
     "metadata": {},
     "output_type": "execute_result"
    }
   ],
   "source": [
    "# Index into Array\n",
    "data[0, 2]"
   ]
  },
  {
   "cell_type": "code",
   "execution_count": 61,
   "metadata": {},
   "outputs": [
    {
     "data": {
      "text/plain": [
       "array([1., 2., 1., 2.])"
      ]
     },
     "execution_count": 61,
     "metadata": {},
     "output_type": "execute_result"
    }
   ],
   "source": [
    "data[0:4, 2]"
   ]
  },
  {
   "cell_type": "code",
   "execution_count": 62,
   "metadata": {
    "scrolled": true
   },
   "outputs": [
    {
     "data": {
      "text/plain": [
       "array([[1.],\n",
       "       [2.],\n",
       "       [1.],\n",
       "       [2.]])"
      ]
     },
     "execution_count": 62,
     "metadata": {},
     "output_type": "execute_result"
    }
   ],
   "source": [
    "data[0:4, 2:3]"
   ]
  },
  {
   "cell_type": "code",
   "execution_count": 66,
   "metadata": {},
   "outputs": [
    {
     "data": {
      "text/plain": [
       "array([[ 0.,  0.,  1.,  3.,  1.,  2.,  4.,  7.,  8.,  3.,  3.,  3., 10.,\n",
       "         5.,  7.,  4.,  7.,  7., 12., 18.,  6., 13., 11., 11.,  7.,  7.,\n",
       "         4.,  6.,  8.,  8.,  4.,  4.,  5.,  7.,  3.,  4.,  2.,  3.,  0.,\n",
       "         0.],\n",
       "       [ 0.,  1.,  2.,  1.,  2.,  1.,  3.,  2.,  2.,  6., 10., 11.,  5.,\n",
       "         9.,  4.,  4.,  7., 16.,  8.,  6., 18.,  4., 12.,  5., 12.,  7.,\n",
       "        11.,  5., 11.,  3.,  3.,  5.,  4.,  4.,  5.,  5.,  1.,  1.,  0.,\n",
       "         1.],\n",
       "       [ 0.,  1.,  1.,  3.,  3.,  2.,  6.,  2.,  5.,  9.,  5.,  7.,  4.,\n",
       "         5.,  4., 15.,  5., 11.,  9., 10., 19., 14., 12., 17.,  7., 12.,\n",
       "        11.,  7.,  4.,  2., 10.,  5.,  4.,  2.,  2.,  3.,  2.,  2.,  1.,\n",
       "         1.],\n",
       "       [ 0.,  0.,  2.,  0.,  4.,  2.,  2.,  1.,  6.,  7., 10.,  7.,  9.,\n",
       "        13.,  8.,  8., 15., 10., 10.,  7., 17.,  4.,  4.,  7.,  6., 15.,\n",
       "         6.,  4.,  9., 11.,  3.,  5.,  6.,  3.,  3.,  4.,  2.,  3.,  2.,\n",
       "         1.],\n",
       "       [ 0.,  1.,  1.,  3.,  3.,  1.,  3.,  5.,  2.,  4.,  4.,  7.,  6.,\n",
       "         5.,  3., 10.,  8., 10.,  6., 17.,  9., 14.,  9.,  7., 13.,  9.,\n",
       "        12.,  6.,  7.,  7.,  9.,  6.,  3.,  2.,  2.,  4.,  2.,  0.,  1.,\n",
       "         1.],\n",
       "       [ 0.,  0.,  1.,  2.,  2.,  4.,  2.,  1.,  6.,  4.,  7.,  6.,  6.,\n",
       "         9.,  9., 15.,  4., 16., 18., 12., 12.,  5., 18.,  9.,  5.,  3.,\n",
       "        10.,  3., 12.,  7.,  8.,  4.,  7.,  3.,  5.,  4.,  4.,  3.,  2.,\n",
       "         1.],\n",
       "       [ 0.,  0.,  2.,  2.,  4.,  2.,  2.,  5.,  5.,  8.,  6.,  5., 11.,\n",
       "         9.,  4., 13.,  5., 12., 10.,  6.,  9., 17., 15.,  8.,  9.,  3.,\n",
       "        13.,  7.,  8.,  2.,  8.,  8.,  4.,  2.,  3.,  5.,  4.,  1.,  1.,\n",
       "         1.],\n",
       "       [ 0.,  0.,  1.,  2.,  3.,  1.,  2.,  3.,  5.,  3.,  7.,  8.,  8.,\n",
       "         5., 10.,  9., 15., 11., 18., 19., 20.,  8.,  5., 13., 15., 10.,\n",
       "         6., 10.,  6.,  7.,  4.,  9.,  3.,  5.,  2.,  5.,  3.,  2.,  2.,\n",
       "         1.],\n",
       "       [ 0.,  0.,  0.,  3.,  1.,  5.,  6.,  5.,  5.,  8.,  2.,  4., 11.,\n",
       "        12., 10., 11.,  9., 10., 17., 11.,  6., 16., 12.,  6.,  8., 14.,\n",
       "         6., 13., 10., 11.,  4.,  6.,  4.,  7.,  6.,  3.,  2.,  1.,  0.,\n",
       "         0.],\n",
       "       [ 0.,  1.,  1.,  2.,  1.,  3.,  5.,  3.,  5.,  8.,  6.,  8., 12.,\n",
       "         5., 13.,  6., 13.,  8., 16.,  8., 18., 15., 16., 14., 12.,  7.,\n",
       "         3.,  8.,  9., 11.,  2.,  5.,  4.,  5.,  1.,  4.,  1.,  2.,  0.,\n",
       "         0.],\n",
       "       [ 0.,  1.,  0.,  0.,  4.,  3.,  3.,  5.,  5.,  4.,  5.,  8.,  7.,\n",
       "        10., 13.,  3.,  7., 13., 15., 18.,  8., 15., 15., 16., 11., 14.,\n",
       "        12.,  4., 10., 10.,  4.,  3.,  4.,  5.,  5.,  3.,  3.,  2.,  2.,\n",
       "         1.],\n",
       "       [ 0.,  1.,  0.,  0.,  3.,  4.,  2.,  7.,  8.,  5.,  2.,  8., 11.,\n",
       "         5.,  5.,  8., 14., 11.,  6., 11.,  9., 16., 18.,  6., 12.,  5.,\n",
       "         4.,  3.,  5.,  7.,  8.,  3.,  5.,  4.,  5.,  5.,  4.,  0.,  1.,\n",
       "         1.],\n",
       "       [ 0.,  0.,  2.,  1.,  4.,  3.,  6.,  4.,  6.,  7.,  9.,  9.,  3.,\n",
       "        11.,  6., 12.,  4., 17., 13., 15., 13., 12.,  8.,  7.,  4.,  7.,\n",
       "        12.,  9.,  5.,  6.,  5.,  4.,  7.,  3.,  5.,  4.,  2.,  3.,  0.,\n",
       "         1.],\n",
       "       [ 0.,  0.,  0.,  0.,  1.,  3.,  1.,  6.,  6.,  5.,  5.,  6.,  3.,\n",
       "         6., 13.,  3., 10., 13.,  9., 16., 15.,  9., 11.,  4.,  6.,  4.,\n",
       "        11., 11., 12.,  3.,  5.,  8.,  7.,  4.,  6.,  4.,  1.,  3.,  0.,\n",
       "         0.],\n",
       "       [ 0.,  1.,  2.,  1.,  1.,  1.,  4.,  1.,  5.,  2.,  3.,  3., 10.,\n",
       "         7., 13.,  5.,  7., 17.,  6.,  9., 12., 13., 10.,  4., 12.,  4.,\n",
       "         6.,  7.,  6., 10.,  8.,  2.,  5.,  1.,  3.,  4.,  2.,  0.,  2.,\n",
       "         0.],\n",
       "       [ 0.,  1.,  1.,  0.,  1.,  2.,  4.,  3.,  6.,  4.,  7.,  5.,  5.,\n",
       "         7.,  5., 10.,  7.,  8., 18., 17.,  9.,  8., 12., 11., 11., 11.,\n",
       "        14.,  6., 11.,  2., 10.,  9.,  5.,  6.,  5.,  3.,  4.,  2.,  2.,\n",
       "         0.],\n",
       "       [ 0.,  0.,  0.,  0.,  2.,  3.,  6.,  5.,  7.,  4.,  3.,  2., 10.,\n",
       "         7.,  9., 11., 12.,  5., 12.,  9., 13., 19., 14., 17.,  5., 13.,\n",
       "         8., 11.,  5., 10.,  9.,  8.,  7.,  5.,  3.,  1.,  4.,  0.,  2.,\n",
       "         1.],\n",
       "       [ 0.,  0.,  0.,  1.,  2.,  1.,  4.,  3.,  6.,  7.,  4.,  2., 12.,\n",
       "         6., 12.,  4., 14.,  7.,  8., 14., 13., 19.,  6.,  9., 12.,  6.,\n",
       "         4., 13.,  6.,  7.,  2.,  3.,  6.,  5.,  4.,  2.,  3.,  0.,  1.,\n",
       "         0.],\n",
       "       [ 0.,  0.,  2.,  1.,  2.,  5.,  4.,  2.,  7.,  8.,  4.,  7., 11.,\n",
       "         9.,  8., 11., 15., 17., 11., 12.,  7., 12.,  7.,  6.,  7.,  4.,\n",
       "        13.,  5.,  7.,  6.,  6.,  9.,  2.,  1.,  1.,  2.,  2.,  0.,  1.,\n",
       "         0.],\n",
       "       [ 0.,  1.,  2.,  0.,  1.,  4.,  3.,  2.,  2.,  7.,  3.,  3., 12.,\n",
       "        13., 11., 13.,  6.,  5.,  9., 16.,  9., 19., 16., 11.,  8.,  9.,\n",
       "        14., 12., 11.,  9.,  6.,  6.,  6.,  1.,  1.,  2.,  4.,  3.,  1.,\n",
       "         1.],\n",
       "       [ 0.,  1.,  1.,  3.,  1.,  4.,  4.,  1.,  8.,  2.,  2.,  3., 12.,\n",
       "        12., 10., 15., 13.,  6.,  5.,  5., 18., 19.,  9.,  6., 11., 12.,\n",
       "         7.,  6.,  3.,  6.,  3.,  2.,  4.,  3.,  1.,  5.,  4.,  2.,  2.,\n",
       "         0.],\n",
       "       [ 0.,  0.,  2.,  3.,  2.,  3.,  2.,  6.,  3.,  8.,  7.,  4.,  6.,\n",
       "         6.,  9.,  5., 12., 12.,  8.,  5., 12., 10., 16.,  7., 14., 12.,\n",
       "         5.,  4.,  6.,  9.,  8.,  5.,  6.,  6.,  1.,  4.,  3.,  0.,  2.,\n",
       "         0.],\n",
       "       [ 0.,  0.,  0.,  3.,  4.,  5.,  1.,  7.,  7.,  8.,  2.,  5., 12.,\n",
       "         4., 10., 14.,  5.,  5., 17., 13., 16., 15., 13.,  6., 12.,  9.,\n",
       "        10.,  3.,  3.,  7.,  4.,  4.,  8.,  2.,  6.,  5.,  1.,  0.,  1.,\n",
       "         0.],\n",
       "       [ 0.,  1.,  1.,  1.,  1.,  3.,  3.,  2.,  6.,  3.,  9.,  7.,  8.,\n",
       "         8.,  4., 13.,  7., 14., 11., 15., 14., 13.,  5., 13.,  7., 14.,\n",
       "         9., 10.,  5., 11.,  5.,  3.,  5.,  1.,  1.,  4.,  4.,  1.,  2.,\n",
       "         0.],\n",
       "       [ 0.,  1.,  1.,  1.,  2.,  3.,  5.,  3.,  6.,  3.,  7., 10.,  3.,\n",
       "         8., 12.,  4., 12.,  9., 15.,  5., 17., 16.,  5., 10., 10., 15.,\n",
       "         7.,  5.,  3., 11.,  5.,  5.,  6.,  1.,  1.,  1.,  1.,  0.,  2.,\n",
       "         1.],\n",
       "       [ 0.,  0.,  2.,  1.,  3.,  3.,  2.,  7.,  4.,  4.,  3.,  8., 12.,\n",
       "         9., 12.,  9.,  5., 16.,  8., 17.,  7., 11., 14.,  7., 13., 11.,\n",
       "         7., 12., 12.,  7.,  8.,  5.,  7.,  2.,  2.,  4.,  1.,  1.,  1.,\n",
       "         0.],\n",
       "       [ 0.,  0.,  1.,  2.,  4.,  2.,  2.,  3.,  5.,  7., 10.,  5.,  5.,\n",
       "        12.,  3., 13.,  4., 13.,  7., 15.,  9., 12., 18., 14., 16., 12.,\n",
       "         3., 11.,  3.,  2.,  7.,  4.,  8.,  2.,  2.,  1.,  3.,  0.,  1.,\n",
       "         1.],\n",
       "       [ 0.,  0.,  1.,  1.,  1.,  5.,  1.,  5.,  2.,  2.,  4., 10.,  4.,\n",
       "         8., 14.,  6., 15.,  6., 12., 15., 15., 13.,  7., 17.,  4.,  5.,\n",
       "        11.,  4.,  8.,  7.,  9.,  4.,  5.,  3.,  2.,  5.,  4.,  3.,  2.,\n",
       "         1.],\n",
       "       [ 0.,  0.,  2.,  2.,  3.,  4.,  6.,  3.,  7.,  6.,  4.,  5.,  8.,\n",
       "         4.,  7.,  7.,  6., 11., 12., 19., 20., 18.,  9.,  5.,  4.,  7.,\n",
       "        14.,  8.,  4.,  3.,  7.,  7.,  8.,  3.,  5.,  4.,  1.,  3.,  1.,\n",
       "         0.],\n",
       "       [ 0.,  0.,  0.,  1.,  4.,  4.,  6.,  3.,  8.,  6.,  4., 10., 12.,\n",
       "         3.,  3.,  6.,  8.,  7., 17., 16., 14., 15., 17.,  4., 14., 13.,\n",
       "         4.,  4., 12., 11.,  6.,  9.,  5.,  5.,  2.,  5.,  2.,  1.,  0.,\n",
       "         1.],\n",
       "       [ 0.,  1.,  1.,  0.,  3.,  2.,  4.,  6.,  8.,  6.,  2.,  3., 11.,\n",
       "         3., 14., 14., 12.,  8.,  8., 16., 13.,  7.,  6.,  9., 15.,  7.,\n",
       "         6.,  4., 10.,  8., 10.,  4.,  2.,  6.,  5.,  5.,  2.,  3.,  2.,\n",
       "         1.],\n",
       "       [ 0.,  0.,  2.,  3.,  3.,  4.,  5.,  3.,  6.,  7., 10.,  5., 10.,\n",
       "        13., 14.,  3.,  8., 10.,  9.,  9., 19., 15., 15.,  6.,  8.,  8.,\n",
       "        11.,  5.,  5.,  7.,  3.,  6.,  6.,  4.,  5.,  2.,  2.,  3.,  0.,\n",
       "         0.],\n",
       "       [ 0.,  1.,  2.,  2.,  2.,  3.,  6.,  6.,  6.,  7.,  6.,  3., 11.,\n",
       "        12., 13., 15., 15., 10., 14., 11., 11.,  8.,  6., 12., 10.,  5.,\n",
       "        12.,  7.,  7., 11.,  5.,  8.,  5.,  2.,  5.,  5.,  2.,  0.,  2.,\n",
       "         1.],\n",
       "       [ 0.,  0.,  2.,  1.,  3.,  5.,  6.,  7.,  5.,  8.,  9.,  3., 12.,\n",
       "        10., 12.,  4., 12.,  9., 13., 10., 10.,  6., 10., 11.,  4., 15.,\n",
       "        13.,  7.,  3.,  4.,  2.,  9.,  7.,  2.,  4.,  2.,  1.,  2.,  1.,\n",
       "         1.],\n",
       "       [ 0.,  0.,  1.,  2.,  4.,  1.,  5.,  5.,  2.,  3.,  4.,  8.,  8.,\n",
       "        12.,  5., 15.,  9., 17.,  7., 19., 14., 18., 12., 17., 14.,  4.,\n",
       "        13., 13.,  8., 11.,  5.,  6.,  6.,  2.,  3.,  5.,  2.,  1.,  1.,\n",
       "         1.],\n",
       "       [ 0.,  0.,  0.,  3.,  1.,  3.,  6.,  4.,  3.,  4.,  8.,  3.,  4.,\n",
       "         8.,  3., 11.,  5.,  7., 10.,  5., 15.,  9., 16., 17., 16.,  3.,\n",
       "         8.,  9.,  8.,  3.,  3.,  9.,  5.,  1.,  6.,  5.,  4.,  2.,  2.,\n",
       "         0.],\n",
       "       [ 0.,  1.,  2.,  2.,  2.,  5.,  5.,  1.,  4.,  6.,  3.,  6.,  5.,\n",
       "         9.,  6.,  7.,  4.,  7., 16.,  7., 16., 13.,  9., 16., 12.,  6.,\n",
       "         7.,  9., 10.,  3.,  6.,  4.,  5.,  4.,  6.,  3.,  4.,  3.,  2.,\n",
       "         1.],\n",
       "       [ 0.,  1.,  1.,  2.,  3.,  1.,  5.,  1.,  2.,  2.,  5.,  7.,  6.,\n",
       "         6.,  5., 10.,  6.,  7., 17., 13., 15., 16., 17., 14.,  4.,  4.,\n",
       "        10., 10., 10., 11.,  9.,  9.,  5.,  4.,  4.,  2.,  1.,  0.,  1.,\n",
       "         0.],\n",
       "       [ 0.,  1.,  0.,  3.,  2.,  4.,  1.,  1.,  5.,  9., 10.,  7., 12.,\n",
       "        10.,  9., 15., 12., 13., 13.,  6., 19.,  9., 10.,  6., 13.,  5.,\n",
       "        13.,  6.,  7.,  2.,  5.,  5.,  2.,  1.,  1.,  1.,  1.,  3.,  0.,\n",
       "         1.],\n",
       "       [ 0.,  1.,  1.,  3.,  1.,  1.,  5.,  5.,  3.,  7.,  2.,  2.,  3.,\n",
       "        12.,  4.,  6.,  8., 15., 16., 16., 15.,  4., 14.,  5., 13., 10.,\n",
       "         7., 10.,  6.,  3.,  2.,  3.,  6.,  3.,  3.,  5.,  4.,  3.,  2.,\n",
       "         1.],\n",
       "       [ 0.,  0.,  0.,  2.,  2.,  1.,  3.,  4.,  5.,  5.,  6.,  5.,  5.,\n",
       "        12., 13.,  5.,  7.,  5., 11., 15., 18.,  7.,  9., 10., 14., 12.,\n",
       "        11.,  9., 10.,  3.,  2.,  9.,  6.,  2.,  2.,  5.,  3.,  0.,  0.,\n",
       "         1.],\n",
       "       [ 0.,  0.,  1.,  3.,  3.,  1.,  2.,  1.,  8.,  9.,  2.,  8., 10.,\n",
       "         3.,  8.,  6., 10., 13., 11., 17., 19.,  6.,  4., 11.,  6., 12.,\n",
       "         7.,  5.,  5.,  4.,  4.,  8.,  2.,  6.,  6.,  4.,  2.,  2.,  0.,\n",
       "         0.],\n",
       "       [ 0.,  1.,  1.,  3.,  4.,  5.,  2.,  1.,  3.,  7.,  9.,  6., 10.,\n",
       "         5.,  8., 15., 11., 12., 15.,  6., 12., 16.,  6.,  4., 14.,  3.,\n",
       "        12.,  9.,  6., 11.,  5.,  8.,  5.,  5.,  6.,  1.,  2.,  1.,  2.,\n",
       "         0.],\n",
       "       [ 0.,  0.,  1.,  3.,  1.,  4.,  3.,  6.,  7.,  8.,  5.,  7., 11.,\n",
       "         3.,  6., 11.,  6., 10.,  6., 19., 18., 14.,  6., 10.,  7.,  9.,\n",
       "         8.,  5.,  8.,  3., 10.,  2.,  5.,  1.,  5.,  4.,  2.,  1.,  0.,\n",
       "         1.],\n",
       "       [ 0.,  1.,  1.,  3.,  3.,  4.,  4.,  6.,  3.,  4.,  9.,  9.,  7.,\n",
       "         6.,  8., 15., 12., 15.,  6., 11.,  6., 18.,  5., 14., 15., 12.,\n",
       "         9.,  8.,  3.,  6., 10.,  6.,  8.,  7.,  2.,  5.,  4.,  3.,  1.,\n",
       "         1.],\n",
       "       [ 0.,  1.,  2.,  2.,  4.,  3.,  1.,  4.,  8.,  9.,  5., 10., 10.,\n",
       "         3.,  4.,  6.,  7., 11., 16.,  6., 14.,  9., 11., 10., 10.,  7.,\n",
       "        10.,  8.,  8.,  4.,  5.,  8.,  4.,  4.,  5.,  2.,  4.,  1.,  1.,\n",
       "         0.],\n",
       "       [ 0.,  0.,  2.,  3.,  4.,  5.,  4.,  6.,  2.,  9.,  7.,  4.,  9.,\n",
       "        10.,  8., 11., 16., 12., 15., 17., 19., 10., 18., 13., 15., 11.,\n",
       "         8.,  4.,  7., 11.,  6.,  7.,  6.,  5.,  1.,  3.,  1.,  0.,  0.,\n",
       "         0.],\n",
       "       [ 0.,  1.,  1.,  3.,  1.,  4.,  6.,  2.,  8.,  2., 10.,  3., 11.,\n",
       "         9., 13., 15.,  5., 15.,  6., 10., 10.,  5., 14., 15., 12.,  7.,\n",
       "         4.,  5., 11.,  4.,  6.,  9.,  5.,  6.,  1.,  1.,  2.,  1.,  2.,\n",
       "         1.],\n",
       "       [ 0.,  0.,  1.,  3.,  2.,  5.,  1.,  2.,  7.,  6.,  6.,  3., 12.,\n",
       "         9.,  4., 14.,  4.,  6., 12.,  9., 12.,  7., 11.,  7., 16.,  8.,\n",
       "        13.,  6.,  7.,  6., 10.,  7.,  6.,  3.,  1.,  5.,  4.,  3.,  0.,\n",
       "         0.],\n",
       "       [ 0.,  0.,  1.,  2.,  3.,  4.,  5.,  7.,  5.,  4., 10.,  5., 12.,\n",
       "        12.,  5.,  4.,  7.,  9., 18., 16., 16., 10., 15., 15., 10.,  4.,\n",
       "         3.,  7.,  5.,  9.,  4.,  6.,  2.,  4.,  1.,  4.,  2.,  2.,  2.,\n",
       "         1.],\n",
       "       [ 0.,  1.,  2.,  1.,  1.,  3.,  5.,  3.,  6.,  3., 10., 10., 11.,\n",
       "        10., 13., 10., 13.,  6.,  6., 14.,  5.,  4.,  5.,  5.,  9.,  4.,\n",
       "        12.,  7.,  7.,  4.,  7.,  9.,  3.,  3.,  6.,  3.,  4.,  1.,  2.,\n",
       "         0.],\n",
       "       [ 0.,  1.,  2.,  2.,  3.,  5.,  2.,  4.,  5.,  6.,  8.,  3.,  5.,\n",
       "         4.,  3., 15., 15., 12., 16.,  7., 20., 15., 12.,  8.,  9.,  6.,\n",
       "        12.,  5.,  8.,  3.,  8.,  5.,  4.,  1.,  3.,  2.,  1.,  3.,  1.,\n",
       "         0.],\n",
       "       [ 0.,  0.,  0.,  2.,  4.,  4.,  5.,  3.,  3.,  3., 10.,  4.,  4.,\n",
       "         4., 14., 11., 15., 13., 10., 14., 11., 17.,  9., 11., 11.,  7.,\n",
       "        10., 12., 10., 10., 10.,  8.,  7.,  5.,  2.,  2.,  4.,  1.,  2.,\n",
       "         1.],\n",
       "       [ 0.,  0.,  2.,  1.,  1.,  4.,  4.,  7.,  2.,  9.,  4., 10., 12.,\n",
       "         7.,  6.,  6., 11., 12.,  9., 15., 15.,  6.,  6., 13.,  5., 12.,\n",
       "         9.,  6.,  4.,  7.,  7.,  6.,  5.,  4.,  1.,  4.,  2.,  2.,  2.,\n",
       "         1.],\n",
       "       [ 0.,  1.,  2.,  1.,  1.,  4.,  5.,  4.,  4.,  5.,  9.,  7., 10.,\n",
       "         3., 13., 13.,  8.,  9., 17., 16., 16., 15., 12., 13.,  5., 12.,\n",
       "        10.,  9., 11.,  9.,  4.,  5.,  5.,  2.,  2.,  5.,  1.,  0.,  0.,\n",
       "         1.],\n",
       "       [ 0.,  0.,  1.,  3.,  2.,  3.,  6.,  4.,  5.,  7.,  2.,  4., 11.,\n",
       "        11.,  3.,  8.,  8., 16.,  5., 13., 16.,  5.,  8.,  8.,  6.,  9.,\n",
       "        10., 10.,  9.,  3.,  3.,  5.,  3.,  5.,  4.,  5.,  3.,  3.,  0.,\n",
       "         1.],\n",
       "       [ 0.,  1.,  1.,  2.,  2.,  5.,  1.,  7.,  4.,  2.,  5.,  5.,  4.,\n",
       "         6.,  6.,  4., 16., 11., 14., 16., 14., 14.,  8., 17.,  4., 14.,\n",
       "        13.,  7.,  6.,  3.,  7.,  7.,  5.,  6.,  3.,  4.,  2.,  2.,  1.,\n",
       "         1.],\n",
       "       [ 0.,  1.,  1.,  1.,  4.,  1.,  6.,  4.,  6.,  3.,  6.,  5.,  6.,\n",
       "         4., 14., 13., 13.,  9., 12., 19.,  9., 10., 15., 10.,  9., 10.,\n",
       "        10.,  7.,  5.,  6.,  8.,  6.,  6.,  4.,  3.,  5.,  2.,  1.,  1.,\n",
       "         1.],\n",
       "       [ 0.,  0.,  0.,  1.,  4.,  5.,  6.,  3.,  8.,  7.,  9., 10.,  8.,\n",
       "         6.,  5., 12., 15.,  5., 10.,  5.,  8., 13., 18., 17., 14.,  9.,\n",
       "        13.,  4., 10., 11., 10.,  8.,  8.,  6.,  5.,  5.,  2.,  0.,  2.,\n",
       "         0.],\n",
       "       [ 0.,  0.,  1.,  0.,  3.,  2.,  5.,  4.,  8.,  2.,  9.,  3.,  3.,\n",
       "        10., 12.,  9., 14., 11., 13.,  8.,  6., 18., 11.,  9., 13., 11.,\n",
       "         8.,  5.,  5.,  2.,  8.,  5.,  3.,  5.,  4.,  1.,  3.,  1.,  1.,\n",
       "         0.]])"
      ]
     },
     "execution_count": 66,
     "metadata": {},
     "output_type": "execute_result"
    }
   ],
   "source": [
    "data"
   ]
  },
  {
   "cell_type": "code",
   "execution_count": 65,
   "metadata": {},
   "outputs": [],
   "source": [
    "numpy.set_printoptions(threshold = 10000)"
   ]
  },
  {
   "cell_type": "code",
   "execution_count": 70,
   "metadata": {},
   "outputs": [
    {
     "name": "stdout",
     "output_type": "stream",
     "text": [
      "[[ 0.  0.  1.  3.  1.  2.  4.  7.  8.  3.  3.  3. 10.  5.  7.  4.  7.  7.\n",
      "  12. 18.  6. 13. 11. 11.  7.  7.  4.  6.  8.  8.  4.  4.  5.  7.  3.  4.\n",
      "   2.  3.  0.  0.]\n",
      " [ 0.  1.  2.  1.  2.  1.  3.  2.  2.  6. 10. 11.  5.  9.  4.  4.  7. 16.\n",
      "   8.  6. 18.  4. 12.  5. 12.  7. 11.  5. 11.  3.  3.  5.  4.  4.  5.  5.\n",
      "   1.  1.  0.  1.]\n",
      " [ 0.  1.  1.  3.  3.  2.  6.  2.  5.  9.  5.  7.  4.  5.  4. 15.  5. 11.\n",
      "   9. 10. 19. 14. 12. 17.  7. 12. 11.  7.  4.  2. 10.  5.  4.  2.  2.  3.\n",
      "   2.  2.  1.  1.]\n",
      " [ 0.  0.  2.  0.  4.  2.  2.  1.  6.  7. 10.  7.  9. 13.  8.  8. 15. 10.\n",
      "  10.  7. 17.  4.  4.  7.  6. 15.  6.  4.  9. 11.  3.  5.  6.  3.  3.  4.\n",
      "   2.  3.  2.  1.]\n",
      " [ 0.  1.  1.  3.  3.  1.  3.  5.  2.  4.  4.  7.  6.  5.  3. 10.  8. 10.\n",
      "   6. 17.  9. 14.  9.  7. 13.  9. 12.  6.  7.  7.  9.  6.  3.  2.  2.  4.\n",
      "   2.  0.  1.  1.]\n",
      " [ 0.  0.  1.  2.  2.  4.  2.  1.  6.  4.  7.  6.  6.  9.  9. 15.  4. 16.\n",
      "  18. 12. 12.  5. 18.  9.  5.  3. 10.  3. 12.  7.  8.  4.  7.  3.  5.  4.\n",
      "   4.  3.  2.  1.]\n",
      " [ 0.  0.  2.  2.  4.  2.  2.  5.  5.  8.  6.  5. 11.  9.  4. 13.  5. 12.\n",
      "  10.  6.  9. 17. 15.  8.  9.  3. 13.  7.  8.  2.  8.  8.  4.  2.  3.  5.\n",
      "   4.  1.  1.  1.]\n",
      " [ 0.  0.  1.  2.  3.  1.  2.  3.  5.  3.  7.  8.  8.  5. 10.  9. 15. 11.\n",
      "  18. 19. 20.  8.  5. 13. 15. 10.  6. 10.  6.  7.  4.  9.  3.  5.  2.  5.\n",
      "   3.  2.  2.  1.]\n",
      " [ 0.  0.  0.  3.  1.  5.  6.  5.  5.  8.  2.  4. 11. 12. 10. 11.  9. 10.\n",
      "  17. 11.  6. 16. 12.  6.  8. 14.  6. 13. 10. 11.  4.  6.  4.  7.  6.  3.\n",
      "   2.  1.  0.  0.]\n",
      " [ 0.  1.  1.  2.  1.  3.  5.  3.  5.  8.  6.  8. 12.  5. 13.  6. 13.  8.\n",
      "  16.  8. 18. 15. 16. 14. 12.  7.  3.  8.  9. 11.  2.  5.  4.  5.  1.  4.\n",
      "   1.  2.  0.  0.]\n",
      " [ 0.  1.  0.  0.  4.  3.  3.  5.  5.  4.  5.  8.  7. 10. 13.  3.  7. 13.\n",
      "  15. 18.  8. 15. 15. 16. 11. 14. 12.  4. 10. 10.  4.  3.  4.  5.  5.  3.\n",
      "   3.  2.  2.  1.]\n",
      " [ 0.  1.  0.  0.  3.  4.  2.  7.  8.  5.  2.  8. 11.  5.  5.  8. 14. 11.\n",
      "   6. 11.  9. 16. 18.  6. 12.  5.  4.  3.  5.  7.  8.  3.  5.  4.  5.  5.\n",
      "   4.  0.  1.  1.]\n",
      " [ 0.  0.  2.  1.  4.  3.  6.  4.  6.  7.  9.  9.  3. 11.  6. 12.  4. 17.\n",
      "  13. 15. 13. 12.  8.  7.  4.  7. 12.  9.  5.  6.  5.  4.  7.  3.  5.  4.\n",
      "   2.  3.  0.  1.]\n",
      " [ 0.  0.  0.  0.  1.  3.  1.  6.  6.  5.  5.  6.  3.  6. 13.  3. 10. 13.\n",
      "   9. 16. 15.  9. 11.  4.  6.  4. 11. 11. 12.  3.  5.  8.  7.  4.  6.  4.\n",
      "   1.  3.  0.  0.]\n",
      " [ 0.  1.  2.  1.  1.  1.  4.  1.  5.  2.  3.  3. 10.  7. 13.  5.  7. 17.\n",
      "   6.  9. 12. 13. 10.  4. 12.  4.  6.  7.  6. 10.  8.  2.  5.  1.  3.  4.\n",
      "   2.  0.  2.  0.]\n",
      " [ 0.  1.  1.  0.  1.  2.  4.  3.  6.  4.  7.  5.  5.  7.  5. 10.  7.  8.\n",
      "  18. 17.  9.  8. 12. 11. 11. 11. 14.  6. 11.  2. 10.  9.  5.  6.  5.  3.\n",
      "   4.  2.  2.  0.]\n",
      " [ 0.  0.  0.  0.  2.  3.  6.  5.  7.  4.  3.  2. 10.  7.  9. 11. 12.  5.\n",
      "  12.  9. 13. 19. 14. 17.  5. 13.  8. 11.  5. 10.  9.  8.  7.  5.  3.  1.\n",
      "   4.  0.  2.  1.]\n",
      " [ 0.  0.  0.  1.  2.  1.  4.  3.  6.  7.  4.  2. 12.  6. 12.  4. 14.  7.\n",
      "   8. 14. 13. 19.  6.  9. 12.  6.  4. 13.  6.  7.  2.  3.  6.  5.  4.  2.\n",
      "   3.  0.  1.  0.]\n",
      " [ 0.  0.  2.  1.  2.  5.  4.  2.  7.  8.  4.  7. 11.  9.  8. 11. 15. 17.\n",
      "  11. 12.  7. 12.  7.  6.  7.  4. 13.  5.  7.  6.  6.  9.  2.  1.  1.  2.\n",
      "   2.  0.  1.  0.]\n",
      " [ 0.  1.  2.  0.  1.  4.  3.  2.  2.  7.  3.  3. 12. 13. 11. 13.  6.  5.\n",
      "   9. 16.  9. 19. 16. 11.  8.  9. 14. 12. 11.  9.  6.  6.  6.  1.  1.  2.\n",
      "   4.  3.  1.  1.]\n",
      " [ 0.  1.  1.  3.  1.  4.  4.  1.  8.  2.  2.  3. 12. 12. 10. 15. 13.  6.\n",
      "   5.  5. 18. 19.  9.  6. 11. 12.  7.  6.  3.  6.  3.  2.  4.  3.  1.  5.\n",
      "   4.  2.  2.  0.]\n",
      " [ 0.  0.  2.  3.  2.  3.  2.  6.  3.  8.  7.  4.  6.  6.  9.  5. 12. 12.\n",
      "   8.  5. 12. 10. 16.  7. 14. 12.  5.  4.  6.  9.  8.  5.  6.  6.  1.  4.\n",
      "   3.  0.  2.  0.]\n",
      " [ 0.  0.  0.  3.  4.  5.  1.  7.  7.  8.  2.  5. 12.  4. 10. 14.  5.  5.\n",
      "  17. 13. 16. 15. 13.  6. 12.  9. 10.  3.  3.  7.  4.  4.  8.  2.  6.  5.\n",
      "   1.  0.  1.  0.]\n",
      " [ 0.  1.  1.  1.  1.  3.  3.  2.  6.  3.  9.  7.  8.  8.  4. 13.  7. 14.\n",
      "  11. 15. 14. 13.  5. 13.  7. 14.  9. 10.  5. 11.  5.  3.  5.  1.  1.  4.\n",
      "   4.  1.  2.  0.]\n",
      " [ 0.  1.  1.  1.  2.  3.  5.  3.  6.  3.  7. 10.  3.  8. 12.  4. 12.  9.\n",
      "  15.  5. 17. 16.  5. 10. 10. 15.  7.  5.  3. 11.  5.  5.  6.  1.  1.  1.\n",
      "   1.  0.  2.  1.]\n",
      " [ 0.  0.  2.  1.  3.  3.  2.  7.  4.  4.  3.  8. 12.  9. 12.  9.  5. 16.\n",
      "   8. 17.  7. 11. 14.  7. 13. 11.  7. 12. 12.  7.  8.  5.  7.  2.  2.  4.\n",
      "   1.  1.  1.  0.]\n",
      " [ 0.  0.  1.  2.  4.  2.  2.  3.  5.  7. 10.  5.  5. 12.  3. 13.  4. 13.\n",
      "   7. 15.  9. 12. 18. 14. 16. 12.  3. 11.  3.  2.  7.  4.  8.  2.  2.  1.\n",
      "   3.  0.  1.  1.]\n",
      " [ 0.  0.  1.  1.  1.  5.  1.  5.  2.  2.  4. 10.  4.  8. 14.  6. 15.  6.\n",
      "  12. 15. 15. 13.  7. 17.  4.  5. 11.  4.  8.  7.  9.  4.  5.  3.  2.  5.\n",
      "   4.  3.  2.  1.]\n",
      " [ 0.  0.  2.  2.  3.  4.  6.  3.  7.  6.  4.  5.  8.  4.  7.  7.  6. 11.\n",
      "  12. 19. 20. 18.  9.  5.  4.  7. 14.  8.  4.  3.  7.  7.  8.  3.  5.  4.\n",
      "   1.  3.  1.  0.]\n",
      " [ 0.  0.  0.  1.  4.  4.  6.  3.  8.  6.  4. 10. 12.  3.  3.  6.  8.  7.\n",
      "  17. 16. 14. 15. 17.  4. 14. 13.  4.  4. 12. 11.  6.  9.  5.  5.  2.  5.\n",
      "   2.  1.  0.  1.]\n",
      " [ 0.  1.  1.  0.  3.  2.  4.  6.  8.  6.  2.  3. 11.  3. 14. 14. 12.  8.\n",
      "   8. 16. 13.  7.  6.  9. 15.  7.  6.  4. 10.  8. 10.  4.  2.  6.  5.  5.\n",
      "   2.  3.  2.  1.]\n",
      " [ 0.  0.  2.  3.  3.  4.  5.  3.  6.  7. 10.  5. 10. 13. 14.  3.  8. 10.\n",
      "   9.  9. 19. 15. 15.  6.  8.  8. 11.  5.  5.  7.  3.  6.  6.  4.  5.  2.\n",
      "   2.  3.  0.  0.]\n",
      " [ 0.  1.  2.  2.  2.  3.  6.  6.  6.  7.  6.  3. 11. 12. 13. 15. 15. 10.\n",
      "  14. 11. 11.  8.  6. 12. 10.  5. 12.  7.  7. 11.  5.  8.  5.  2.  5.  5.\n",
      "   2.  0.  2.  1.]\n",
      " [ 0.  0.  2.  1.  3.  5.  6.  7.  5.  8.  9.  3. 12. 10. 12.  4. 12.  9.\n",
      "  13. 10. 10.  6. 10. 11.  4. 15. 13.  7.  3.  4.  2.  9.  7.  2.  4.  2.\n",
      "   1.  2.  1.  1.]\n",
      " [ 0.  0.  1.  2.  4.  1.  5.  5.  2.  3.  4.  8.  8. 12.  5. 15.  9. 17.\n",
      "   7. 19. 14. 18. 12. 17. 14.  4. 13. 13.  8. 11.  5.  6.  6.  2.  3.  5.\n",
      "   2.  1.  1.  1.]\n",
      " [ 0.  0.  0.  3.  1.  3.  6.  4.  3.  4.  8.  3.  4.  8.  3. 11.  5.  7.\n",
      "  10.  5. 15.  9. 16. 17. 16.  3.  8.  9.  8.  3.  3.  9.  5.  1.  6.  5.\n",
      "   4.  2.  2.  0.]\n",
      " [ 0.  1.  2.  2.  2.  5.  5.  1.  4.  6.  3.  6.  5.  9.  6.  7.  4.  7.\n",
      "  16.  7. 16. 13.  9. 16. 12.  6.  7.  9. 10.  3.  6.  4.  5.  4.  6.  3.\n",
      "   4.  3.  2.  1.]\n",
      " [ 0.  1.  1.  2.  3.  1.  5.  1.  2.  2.  5.  7.  6.  6.  5. 10.  6.  7.\n",
      "  17. 13. 15. 16. 17. 14.  4.  4. 10. 10. 10. 11.  9.  9.  5.  4.  4.  2.\n",
      "   1.  0.  1.  0.]\n",
      " [ 0.  1.  0.  3.  2.  4.  1.  1.  5.  9. 10.  7. 12. 10.  9. 15. 12. 13.\n",
      "  13.  6. 19.  9. 10.  6. 13.  5. 13.  6.  7.  2.  5.  5.  2.  1.  1.  1.\n",
      "   1.  3.  0.  1.]\n",
      " [ 0.  1.  1.  3.  1.  1.  5.  5.  3.  7.  2.  2.  3. 12.  4.  6.  8. 15.\n",
      "  16. 16. 15.  4. 14.  5. 13. 10.  7. 10.  6.  3.  2.  3.  6.  3.  3.  5.\n",
      "   4.  3.  2.  1.]\n",
      " [ 0.  0.  0.  2.  2.  1.  3.  4.  5.  5.  6.  5.  5. 12. 13.  5.  7.  5.\n",
      "  11. 15. 18.  7.  9. 10. 14. 12. 11.  9. 10.  3.  2.  9.  6.  2.  2.  5.\n",
      "   3.  0.  0.  1.]\n",
      " [ 0.  0.  1.  3.  3.  1.  2.  1.  8.  9.  2.  8. 10.  3.  8.  6. 10. 13.\n",
      "  11. 17. 19.  6.  4. 11.  6. 12.  7.  5.  5.  4.  4.  8.  2.  6.  6.  4.\n",
      "   2.  2.  0.  0.]\n",
      " [ 0.  1.  1.  3.  4.  5.  2.  1.  3.  7.  9.  6. 10.  5.  8. 15. 11. 12.\n",
      "  15.  6. 12. 16.  6.  4. 14.  3. 12.  9.  6. 11.  5.  8.  5.  5.  6.  1.\n",
      "   2.  1.  2.  0.]\n",
      " [ 0.  0.  1.  3.  1.  4.  3.  6.  7.  8.  5.  7. 11.  3.  6. 11.  6. 10.\n",
      "   6. 19. 18. 14.  6. 10.  7.  9.  8.  5.  8.  3. 10.  2.  5.  1.  5.  4.\n",
      "   2.  1.  0.  1.]\n",
      " [ 0.  1.  1.  3.  3.  4.  4.  6.  3.  4.  9.  9.  7.  6.  8. 15. 12. 15.\n",
      "   6. 11.  6. 18.  5. 14. 15. 12.  9.  8.  3.  6. 10.  6.  8.  7.  2.  5.\n",
      "   4.  3.  1.  1.]\n",
      " [ 0.  1.  2.  2.  4.  3.  1.  4.  8.  9.  5. 10. 10.  3.  4.  6.  7. 11.\n",
      "  16.  6. 14.  9. 11. 10. 10.  7. 10.  8.  8.  4.  5.  8.  4.  4.  5.  2.\n",
      "   4.  1.  1.  0.]\n",
      " [ 0.  0.  2.  3.  4.  5.  4.  6.  2.  9.  7.  4.  9. 10.  8. 11. 16. 12.\n",
      "  15. 17. 19. 10. 18. 13. 15. 11.  8.  4.  7. 11.  6.  7.  6.  5.  1.  3.\n",
      "   1.  0.  0.  0.]\n",
      " [ 0.  1.  1.  3.  1.  4.  6.  2.  8.  2. 10.  3. 11.  9. 13. 15.  5. 15.\n",
      "   6. 10. 10.  5. 14. 15. 12.  7.  4.  5. 11.  4.  6.  9.  5.  6.  1.  1.\n",
      "   2.  1.  2.  1.]\n",
      " [ 0.  0.  1.  3.  2.  5.  1.  2.  7.  6.  6.  3. 12.  9.  4. 14.  4.  6.\n",
      "  12.  9. 12.  7. 11.  7. 16.  8. 13.  6.  7.  6. 10.  7.  6.  3.  1.  5.\n",
      "   4.  3.  0.  0.]\n",
      " [ 0.  0.  1.  2.  3.  4.  5.  7.  5.  4. 10.  5. 12. 12.  5.  4.  7.  9.\n",
      "  18. 16. 16. 10. 15. 15. 10.  4.  3.  7.  5.  9.  4.  6.  2.  4.  1.  4.\n",
      "   2.  2.  2.  1.]\n",
      " [ 0.  1.  2.  1.  1.  3.  5.  3.  6.  3. 10. 10. 11. 10. 13. 10. 13.  6.\n",
      "   6. 14.  5.  4.  5.  5.  9.  4. 12.  7.  7.  4.  7.  9.  3.  3.  6.  3.\n",
      "   4.  1.  2.  0.]\n",
      " [ 0.  1.  2.  2.  3.  5.  2.  4.  5.  6.  8.  3.  5.  4.  3. 15. 15. 12.\n",
      "  16.  7. 20. 15. 12.  8.  9.  6. 12.  5.  8.  3.  8.  5.  4.  1.  3.  2.\n",
      "   1.  3.  1.  0.]\n",
      " [ 0.  0.  0.  2.  4.  4.  5.  3.  3.  3. 10.  4.  4.  4. 14. 11. 15. 13.\n",
      "  10. 14. 11. 17.  9. 11. 11.  7. 10. 12. 10. 10. 10.  8.  7.  5.  2.  2.\n",
      "   4.  1.  2.  1.]\n",
      " [ 0.  0.  2.  1.  1.  4.  4.  7.  2.  9.  4. 10. 12.  7.  6.  6. 11. 12.\n",
      "   9. 15. 15.  6.  6. 13.  5. 12.  9.  6.  4.  7.  7.  6.  5.  4.  1.  4.\n",
      "   2.  2.  2.  1.]\n",
      " [ 0.  1.  2.  1.  1.  4.  5.  4.  4.  5.  9.  7. 10.  3. 13. 13.  8.  9.\n",
      "  17. 16. 16. 15. 12. 13.  5. 12. 10.  9. 11.  9.  4.  5.  5.  2.  2.  5.\n",
      "   1.  0.  0.  1.]\n",
      " [ 0.  0.  1.  3.  2.  3.  6.  4.  5.  7.  2.  4. 11. 11.  3.  8.  8. 16.\n",
      "   5. 13. 16.  5.  8.  8.  6.  9. 10. 10.  9.  3.  3.  5.  3.  5.  4.  5.\n",
      "   3.  3.  0.  1.]\n",
      " [ 0.  1.  1.  2.  2.  5.  1.  7.  4.  2.  5.  5.  4.  6.  6.  4. 16. 11.\n",
      "  14. 16. 14. 14.  8. 17.  4. 14. 13.  7.  6.  3.  7.  7.  5.  6.  3.  4.\n",
      "   2.  2.  1.  1.]\n",
      " [ 0.  1.  1.  1.  4.  1.  6.  4.  6.  3.  6.  5.  6.  4. 14. 13. 13.  9.\n",
      "  12. 19.  9. 10. 15. 10.  9. 10. 10.  7.  5.  6.  8.  6.  6.  4.  3.  5.\n",
      "   2.  1.  1.  1.]\n",
      " [ 0.  0.  0.  1.  4.  5.  6.  3.  8.  7.  9. 10.  8.  6.  5. 12. 15.  5.\n",
      "  10.  5.  8. 13. 18. 17. 14.  9. 13.  4. 10. 11. 10.  8.  8.  6.  5.  5.\n",
      "   2.  0.  2.  0.]\n",
      " [ 0.  0.  1.  0.  3.  2.  5.  4.  8.  2.  9.  3.  3. 10. 12.  9. 14. 11.\n",
      "  13.  8.  6. 18. 11.  9. 13. 11.  8.  5.  5.  2.  8.  5.  3.  5.  4.  1.\n",
      "   3.  1.  1.  0.]]\n"
     ]
    },
    {
     "data": {
      "text/plain": [
       "2.0"
      ]
     },
     "execution_count": 70,
     "metadata": {},
     "output_type": "execute_result"
    }
   ],
   "source": [
    "print(data)\n",
    "data[1, 2]"
   ]
  },
  {
   "cell_type": "code",
   "execution_count": null,
   "metadata": {},
   "outputs": [],
   "source": [
    "# Arithmetic on Arrays"
   ]
  },
  {
   "cell_type": "code",
   "execution_count": 71,
   "metadata": {},
   "outputs": [
    {
     "data": {
      "text/plain": [
       "array([[  0.,   0.,  10.,  30.,  10.,  20.,  40.,  70.,  80.,  30.,  30.,\n",
       "         30., 100.,  50.,  70.,  40.,  70.,  70., 120., 180.,  60., 130.,\n",
       "        110., 110.,  70.,  70.,  40.,  60.,  80.,  80.,  40.,  40.,  50.,\n",
       "         70.,  30.,  40.,  20.,  30.,   0.,   0.],\n",
       "       [  0.,  10.,  20.,  10.,  20.,  10.,  30.,  20.,  20.,  60., 100.,\n",
       "        110.,  50.,  90.,  40.,  40.,  70., 160.,  80.,  60., 180.,  40.,\n",
       "        120.,  50., 120.,  70., 110.,  50., 110.,  30.,  30.,  50.,  40.,\n",
       "         40.,  50.,  50.,  10.,  10.,   0.,  10.],\n",
       "       [  0.,  10.,  10.,  30.,  30.,  20.,  60.,  20.,  50.,  90.,  50.,\n",
       "         70.,  40.,  50.,  40., 150.,  50., 110.,  90., 100., 190., 140.,\n",
       "        120., 170.,  70., 120., 110.,  70.,  40.,  20., 100.,  50.,  40.,\n",
       "         20.,  20.,  30.,  20.,  20.,  10.,  10.],\n",
       "       [  0.,   0.,  20.,   0.,  40.,  20.,  20.,  10.,  60.,  70., 100.,\n",
       "         70.,  90., 130.,  80.,  80., 150., 100., 100.,  70., 170.,  40.,\n",
       "         40.,  70.,  60., 150.,  60.,  40.,  90., 110.,  30.,  50.,  60.,\n",
       "         30.,  30.,  40.,  20.,  30.,  20.,  10.],\n",
       "       [  0.,  10.,  10.,  30.,  30.,  10.,  30.,  50.,  20.,  40.,  40.,\n",
       "         70.,  60.,  50.,  30., 100.,  80., 100.,  60., 170.,  90., 140.,\n",
       "         90.,  70., 130.,  90., 120.,  60.,  70.,  70.,  90.,  60.,  30.,\n",
       "         20.,  20.,  40.,  20.,   0.,  10.,  10.],\n",
       "       [  0.,   0.,  10.,  20.,  20.,  40.,  20.,  10.,  60.,  40.,  70.,\n",
       "         60.,  60.,  90.,  90., 150.,  40., 160., 180., 120., 120.,  50.,\n",
       "        180.,  90.,  50.,  30., 100.,  30., 120.,  70.,  80.,  40.,  70.,\n",
       "         30.,  50.,  40.,  40.,  30.,  20.,  10.],\n",
       "       [  0.,   0.,  20.,  20.,  40.,  20.,  20.,  50.,  50.,  80.,  60.,\n",
       "         50., 110.,  90.,  40., 130.,  50., 120., 100.,  60.,  90., 170.,\n",
       "        150.,  80.,  90.,  30., 130.,  70.,  80.,  20.,  80.,  80.,  40.,\n",
       "         20.,  30.,  50.,  40.,  10.,  10.,  10.],\n",
       "       [  0.,   0.,  10.,  20.,  30.,  10.,  20.,  30.,  50.,  30.,  70.,\n",
       "         80.,  80.,  50., 100.,  90., 150., 110., 180., 190., 200.,  80.,\n",
       "         50., 130., 150., 100.,  60., 100.,  60.,  70.,  40.,  90.,  30.,\n",
       "         50.,  20.,  50.,  30.,  20.,  20.,  10.],\n",
       "       [  0.,   0.,   0.,  30.,  10.,  50.,  60.,  50.,  50.,  80.,  20.,\n",
       "         40., 110., 120., 100., 110.,  90., 100., 170., 110.,  60., 160.,\n",
       "        120.,  60.,  80., 140.,  60., 130., 100., 110.,  40.,  60.,  40.,\n",
       "         70.,  60.,  30.,  20.,  10.,   0.,   0.],\n",
       "       [  0.,  10.,  10.,  20.,  10.,  30.,  50.,  30.,  50.,  80.,  60.,\n",
       "         80., 120.,  50., 130.,  60., 130.,  80., 160.,  80., 180., 150.,\n",
       "        160., 140., 120.,  70.,  30.,  80.,  90., 110.,  20.,  50.,  40.,\n",
       "         50.,  10.,  40.,  10.,  20.,   0.,   0.],\n",
       "       [  0.,  10.,   0.,   0.,  40.,  30.,  30.,  50.,  50.,  40.,  50.,\n",
       "         80.,  70., 100., 130.,  30.,  70., 130., 150., 180.,  80., 150.,\n",
       "        150., 160., 110., 140., 120.,  40., 100., 100.,  40.,  30.,  40.,\n",
       "         50.,  50.,  30.,  30.,  20.,  20.,  10.],\n",
       "       [  0.,  10.,   0.,   0.,  30.,  40.,  20.,  70.,  80.,  50.,  20.,\n",
       "         80., 110.,  50.,  50.,  80., 140., 110.,  60., 110.,  90., 160.,\n",
       "        180.,  60., 120.,  50.,  40.,  30.,  50.,  70.,  80.,  30.,  50.,\n",
       "         40.,  50.,  50.,  40.,   0.,  10.,  10.],\n",
       "       [  0.,   0.,  20.,  10.,  40.,  30.,  60.,  40.,  60.,  70.,  90.,\n",
       "         90.,  30., 110.,  60., 120.,  40., 170., 130., 150., 130., 120.,\n",
       "         80.,  70.,  40.,  70., 120.,  90.,  50.,  60.,  50.,  40.,  70.,\n",
       "         30.,  50.,  40.,  20.,  30.,   0.,  10.],\n",
       "       [  0.,   0.,   0.,   0.,  10.,  30.,  10.,  60.,  60.,  50.,  50.,\n",
       "         60.,  30.,  60., 130.,  30., 100., 130.,  90., 160., 150.,  90.,\n",
       "        110.,  40.,  60.,  40., 110., 110., 120.,  30.,  50.,  80.,  70.,\n",
       "         40.,  60.,  40.,  10.,  30.,   0.,   0.],\n",
       "       [  0.,  10.,  20.,  10.,  10.,  10.,  40.,  10.,  50.,  20.,  30.,\n",
       "         30., 100.,  70., 130.,  50.,  70., 170.,  60.,  90., 120., 130.,\n",
       "        100.,  40., 120.,  40.,  60.,  70.,  60., 100.,  80.,  20.,  50.,\n",
       "         10.,  30.,  40.,  20.,   0.,  20.,   0.],\n",
       "       [  0.,  10.,  10.,   0.,  10.,  20.,  40.,  30.,  60.,  40.,  70.,\n",
       "         50.,  50.,  70.,  50., 100.,  70.,  80., 180., 170.,  90.,  80.,\n",
       "        120., 110., 110., 110., 140.,  60., 110.,  20., 100.,  90.,  50.,\n",
       "         60.,  50.,  30.,  40.,  20.,  20.,   0.],\n",
       "       [  0.,   0.,   0.,   0.,  20.,  30.,  60.,  50.,  70.,  40.,  30.,\n",
       "         20., 100.,  70.,  90., 110., 120.,  50., 120.,  90., 130., 190.,\n",
       "        140., 170.,  50., 130.,  80., 110.,  50., 100.,  90.,  80.,  70.,\n",
       "         50.,  30.,  10.,  40.,   0.,  20.,  10.],\n",
       "       [  0.,   0.,   0.,  10.,  20.,  10.,  40.,  30.,  60.,  70.,  40.,\n",
       "         20., 120.,  60., 120.,  40., 140.,  70.,  80., 140., 130., 190.,\n",
       "         60.,  90., 120.,  60.,  40., 130.,  60.,  70.,  20.,  30.,  60.,\n",
       "         50.,  40.,  20.,  30.,   0.,  10.,   0.],\n",
       "       [  0.,   0.,  20.,  10.,  20.,  50.,  40.,  20.,  70.,  80.,  40.,\n",
       "         70., 110.,  90.,  80., 110., 150., 170., 110., 120.,  70., 120.,\n",
       "         70.,  60.,  70.,  40., 130.,  50.,  70.,  60.,  60.,  90.,  20.,\n",
       "         10.,  10.,  20.,  20.,   0.,  10.,   0.],\n",
       "       [  0.,  10.,  20.,   0.,  10.,  40.,  30.,  20.,  20.,  70.,  30.,\n",
       "         30., 120., 130., 110., 130.,  60.,  50.,  90., 160.,  90., 190.,\n",
       "        160., 110.,  80.,  90., 140., 120., 110.,  90.,  60.,  60.,  60.,\n",
       "         10.,  10.,  20.,  40.,  30.,  10.,  10.],\n",
       "       [  0.,  10.,  10.,  30.,  10.,  40.,  40.,  10.,  80.,  20.,  20.,\n",
       "         30., 120., 120., 100., 150., 130.,  60.,  50.,  50., 180., 190.,\n",
       "         90.,  60., 110., 120.,  70.,  60.,  30.,  60.,  30.,  20.,  40.,\n",
       "         30.,  10.,  50.,  40.,  20.,  20.,   0.],\n",
       "       [  0.,   0.,  20.,  30.,  20.,  30.,  20.,  60.,  30.,  80.,  70.,\n",
       "         40.,  60.,  60.,  90.,  50., 120., 120.,  80.,  50., 120., 100.,\n",
       "        160.,  70., 140., 120.,  50.,  40.,  60.,  90.,  80.,  50.,  60.,\n",
       "         60.,  10.,  40.,  30.,   0.,  20.,   0.],\n",
       "       [  0.,   0.,   0.,  30.,  40.,  50.,  10.,  70.,  70.,  80.,  20.,\n",
       "         50., 120.,  40., 100., 140.,  50.,  50., 170., 130., 160., 150.,\n",
       "        130.,  60., 120.,  90., 100.,  30.,  30.,  70.,  40.,  40.,  80.,\n",
       "         20.,  60.,  50.,  10.,   0.,  10.,   0.],\n",
       "       [  0.,  10.,  10.,  10.,  10.,  30.,  30.,  20.,  60.,  30.,  90.,\n",
       "         70.,  80.,  80.,  40., 130.,  70., 140., 110., 150., 140., 130.,\n",
       "         50., 130.,  70., 140.,  90., 100.,  50., 110.,  50.,  30.,  50.,\n",
       "         10.,  10.,  40.,  40.,  10.,  20.,   0.],\n",
       "       [  0.,  10.,  10.,  10.,  20.,  30.,  50.,  30.,  60.,  30.,  70.,\n",
       "        100.,  30.,  80., 120.,  40., 120.,  90., 150.,  50., 170., 160.,\n",
       "         50., 100., 100., 150.,  70.,  50.,  30., 110.,  50.,  50.,  60.,\n",
       "         10.,  10.,  10.,  10.,   0.,  20.,  10.],\n",
       "       [  0.,   0.,  20.,  10.,  30.,  30.,  20.,  70.,  40.,  40.,  30.,\n",
       "         80., 120.,  90., 120.,  90.,  50., 160.,  80., 170.,  70., 110.,\n",
       "        140.,  70., 130., 110.,  70., 120., 120.,  70.,  80.,  50.,  70.,\n",
       "         20.,  20.,  40.,  10.,  10.,  10.,   0.],\n",
       "       [  0.,   0.,  10.,  20.,  40.,  20.,  20.,  30.,  50.,  70., 100.,\n",
       "         50.,  50., 120.,  30., 130.,  40., 130.,  70., 150.,  90., 120.,\n",
       "        180., 140., 160., 120.,  30., 110.,  30.,  20.,  70.,  40.,  80.,\n",
       "         20.,  20.,  10.,  30.,   0.,  10.,  10.],\n",
       "       [  0.,   0.,  10.,  10.,  10.,  50.,  10.,  50.,  20.,  20.,  40.,\n",
       "        100.,  40.,  80., 140.,  60., 150.,  60., 120., 150., 150., 130.,\n",
       "         70., 170.,  40.,  50., 110.,  40.,  80.,  70.,  90.,  40.,  50.,\n",
       "         30.,  20.,  50.,  40.,  30.,  20.,  10.],\n",
       "       [  0.,   0.,  20.,  20.,  30.,  40.,  60.,  30.,  70.,  60.,  40.,\n",
       "         50.,  80.,  40.,  70.,  70.,  60., 110., 120., 190., 200., 180.,\n",
       "         90.,  50.,  40.,  70., 140.,  80.,  40.,  30.,  70.,  70.,  80.,\n",
       "         30.,  50.,  40.,  10.,  30.,  10.,   0.],\n",
       "       [  0.,   0.,   0.,  10.,  40.,  40.,  60.,  30.,  80.,  60.,  40.,\n",
       "        100., 120.,  30.,  30.,  60.,  80.,  70., 170., 160., 140., 150.,\n",
       "        170.,  40., 140., 130.,  40.,  40., 120., 110.,  60.,  90.,  50.,\n",
       "         50.,  20.,  50.,  20.,  10.,   0.,  10.],\n",
       "       [  0.,  10.,  10.,   0.,  30.,  20.,  40.,  60.,  80.,  60.,  20.,\n",
       "         30., 110.,  30., 140., 140., 120.,  80.,  80., 160., 130.,  70.,\n",
       "         60.,  90., 150.,  70.,  60.,  40., 100.,  80., 100.,  40.,  20.,\n",
       "         60.,  50.,  50.,  20.,  30.,  20.,  10.],\n",
       "       [  0.,   0.,  20.,  30.,  30.,  40.,  50.,  30.,  60.,  70., 100.,\n",
       "         50., 100., 130., 140.,  30.,  80., 100.,  90.,  90., 190., 150.,\n",
       "        150.,  60.,  80.,  80., 110.,  50.,  50.,  70.,  30.,  60.,  60.,\n",
       "         40.,  50.,  20.,  20.,  30.,   0.,   0.],\n",
       "       [  0.,  10.,  20.,  20.,  20.,  30.,  60.,  60.,  60.,  70.,  60.,\n",
       "         30., 110., 120., 130., 150., 150., 100., 140., 110., 110.,  80.,\n",
       "         60., 120., 100.,  50., 120.,  70.,  70., 110.,  50.,  80.,  50.,\n",
       "         20.,  50.,  50.,  20.,   0.,  20.,  10.],\n",
       "       [  0.,   0.,  20.,  10.,  30.,  50.,  60.,  70.,  50.,  80.,  90.,\n",
       "         30., 120., 100., 120.,  40., 120.,  90., 130., 100., 100.,  60.,\n",
       "        100., 110.,  40., 150., 130.,  70.,  30.,  40.,  20.,  90.,  70.,\n",
       "         20.,  40.,  20.,  10.,  20.,  10.,  10.],\n",
       "       [  0.,   0.,  10.,  20.,  40.,  10.,  50.,  50.,  20.,  30.,  40.,\n",
       "         80.,  80., 120.,  50., 150.,  90., 170.,  70., 190., 140., 180.,\n",
       "        120., 170., 140.,  40., 130., 130.,  80., 110.,  50.,  60.,  60.,\n",
       "         20.,  30.,  50.,  20.,  10.,  10.,  10.],\n",
       "       [  0.,   0.,   0.,  30.,  10.,  30.,  60.,  40.,  30.,  40.,  80.,\n",
       "         30.,  40.,  80.,  30., 110.,  50.,  70., 100.,  50., 150.,  90.,\n",
       "        160., 170., 160.,  30.,  80.,  90.,  80.,  30.,  30.,  90.,  50.,\n",
       "         10.,  60.,  50.,  40.,  20.,  20.,   0.],\n",
       "       [  0.,  10.,  20.,  20.,  20.,  50.,  50.,  10.,  40.,  60.,  30.,\n",
       "         60.,  50.,  90.,  60.,  70.,  40.,  70., 160.,  70., 160., 130.,\n",
       "         90., 160., 120.,  60.,  70.,  90., 100.,  30.,  60.,  40.,  50.,\n",
       "         40.,  60.,  30.,  40.,  30.,  20.,  10.],\n",
       "       [  0.,  10.,  10.,  20.,  30.,  10.,  50.,  10.,  20.,  20.,  50.,\n",
       "         70.,  60.,  60.,  50., 100.,  60.,  70., 170., 130., 150., 160.,\n",
       "        170., 140.,  40.,  40., 100., 100., 100., 110.,  90.,  90.,  50.,\n",
       "         40.,  40.,  20.,  10.,   0.,  10.,   0.],\n",
       "       [  0.,  10.,   0.,  30.,  20.,  40.,  10.,  10.,  50.,  90., 100.,\n",
       "         70., 120., 100.,  90., 150., 120., 130., 130.,  60., 190.,  90.,\n",
       "        100.,  60., 130.,  50., 130.,  60.,  70.,  20.,  50.,  50.,  20.,\n",
       "         10.,  10.,  10.,  10.,  30.,   0.,  10.],\n",
       "       [  0.,  10.,  10.,  30.,  10.,  10.,  50.,  50.,  30.,  70.,  20.,\n",
       "         20.,  30., 120.,  40.,  60.,  80., 150., 160., 160., 150.,  40.,\n",
       "        140.,  50., 130., 100.,  70., 100.,  60.,  30.,  20.,  30.,  60.,\n",
       "         30.,  30.,  50.,  40.,  30.,  20.,  10.],\n",
       "       [  0.,   0.,   0.,  20.,  20.,  10.,  30.,  40.,  50.,  50.,  60.,\n",
       "         50.,  50., 120., 130.,  50.,  70.,  50., 110., 150., 180.,  70.,\n",
       "         90., 100., 140., 120., 110.,  90., 100.,  30.,  20.,  90.,  60.,\n",
       "         20.,  20.,  50.,  30.,   0.,   0.,  10.],\n",
       "       [  0.,   0.,  10.,  30.,  30.,  10.,  20.,  10.,  80.,  90.,  20.,\n",
       "         80., 100.,  30.,  80.,  60., 100., 130., 110., 170., 190.,  60.,\n",
       "         40., 110.,  60., 120.,  70.,  50.,  50.,  40.,  40.,  80.,  20.,\n",
       "         60.,  60.,  40.,  20.,  20.,   0.,   0.],\n",
       "       [  0.,  10.,  10.,  30.,  40.,  50.,  20.,  10.,  30.,  70.,  90.,\n",
       "         60., 100.,  50.,  80., 150., 110., 120., 150.,  60., 120., 160.,\n",
       "         60.,  40., 140.,  30., 120.,  90.,  60., 110.,  50.,  80.,  50.,\n",
       "         50.,  60.,  10.,  20.,  10.,  20.,   0.],\n",
       "       [  0.,   0.,  10.,  30.,  10.,  40.,  30.,  60.,  70.,  80.,  50.,\n",
       "         70., 110.,  30.,  60., 110.,  60., 100.,  60., 190., 180., 140.,\n",
       "         60., 100.,  70.,  90.,  80.,  50.,  80.,  30., 100.,  20.,  50.,\n",
       "         10.,  50.,  40.,  20.,  10.,   0.,  10.],\n",
       "       [  0.,  10.,  10.,  30.,  30.,  40.,  40.,  60.,  30.,  40.,  90.,\n",
       "         90.,  70.,  60.,  80., 150., 120., 150.,  60., 110.,  60., 180.,\n",
       "         50., 140., 150., 120.,  90.,  80.,  30.,  60., 100.,  60.,  80.,\n",
       "         70.,  20.,  50.,  40.,  30.,  10.,  10.],\n",
       "       [  0.,  10.,  20.,  20.,  40.,  30.,  10.,  40.,  80.,  90.,  50.,\n",
       "        100., 100.,  30.,  40.,  60.,  70., 110., 160.,  60., 140.,  90.,\n",
       "        110., 100., 100.,  70., 100.,  80.,  80.,  40.,  50.,  80.,  40.,\n",
       "         40.,  50.,  20.,  40.,  10.,  10.,   0.],\n",
       "       [  0.,   0.,  20.,  30.,  40.,  50.,  40.,  60.,  20.,  90.,  70.,\n",
       "         40.,  90., 100.,  80., 110., 160., 120., 150., 170., 190., 100.,\n",
       "        180., 130., 150., 110.,  80.,  40.,  70., 110.,  60.,  70.,  60.,\n",
       "         50.,  10.,  30.,  10.,   0.,   0.,   0.],\n",
       "       [  0.,  10.,  10.,  30.,  10.,  40.,  60.,  20.,  80.,  20., 100.,\n",
       "         30., 110.,  90., 130., 150.,  50., 150.,  60., 100., 100.,  50.,\n",
       "        140., 150., 120.,  70.,  40.,  50., 110.,  40.,  60.,  90.,  50.,\n",
       "         60.,  10.,  10.,  20.,  10.,  20.,  10.],\n",
       "       [  0.,   0.,  10.,  30.,  20.,  50.,  10.,  20.,  70.,  60.,  60.,\n",
       "         30., 120.,  90.,  40., 140.,  40.,  60., 120.,  90., 120.,  70.,\n",
       "        110.,  70., 160.,  80., 130.,  60.,  70.,  60., 100.,  70.,  60.,\n",
       "         30.,  10.,  50.,  40.,  30.,   0.,   0.],\n",
       "       [  0.,   0.,  10.,  20.,  30.,  40.,  50.,  70.,  50.,  40., 100.,\n",
       "         50., 120., 120.,  50.,  40.,  70.,  90., 180., 160., 160., 100.,\n",
       "        150., 150., 100.,  40.,  30.,  70.,  50.,  90.,  40.,  60.,  20.,\n",
       "         40.,  10.,  40.,  20.,  20.,  20.,  10.],\n",
       "       [  0.,  10.,  20.,  10.,  10.,  30.,  50.,  30.,  60.,  30., 100.,\n",
       "        100., 110., 100., 130., 100., 130.,  60.,  60., 140.,  50.,  40.,\n",
       "         50.,  50.,  90.,  40., 120.,  70.,  70.,  40.,  70.,  90.,  30.,\n",
       "         30.,  60.,  30.,  40.,  10.,  20.,   0.],\n",
       "       [  0.,  10.,  20.,  20.,  30.,  50.,  20.,  40.,  50.,  60.,  80.,\n",
       "         30.,  50.,  40.,  30., 150., 150., 120., 160.,  70., 200., 150.,\n",
       "        120.,  80.,  90.,  60., 120.,  50.,  80.,  30.,  80.,  50.,  40.,\n",
       "         10.,  30.,  20.,  10.,  30.,  10.,   0.],\n",
       "       [  0.,   0.,   0.,  20.,  40.,  40.,  50.,  30.,  30.,  30., 100.,\n",
       "         40.,  40.,  40., 140., 110., 150., 130., 100., 140., 110., 170.,\n",
       "         90., 110., 110.,  70., 100., 120., 100., 100., 100.,  80.,  70.,\n",
       "         50.,  20.,  20.,  40.,  10.,  20.,  10.],\n",
       "       [  0.,   0.,  20.,  10.,  10.,  40.,  40.,  70.,  20.,  90.,  40.,\n",
       "        100., 120.,  70.,  60.,  60., 110., 120.,  90., 150., 150.,  60.,\n",
       "         60., 130.,  50., 120.,  90.,  60.,  40.,  70.,  70.,  60.,  50.,\n",
       "         40.,  10.,  40.,  20.,  20.,  20.,  10.],\n",
       "       [  0.,  10.,  20.,  10.,  10.,  40.,  50.,  40.,  40.,  50.,  90.,\n",
       "         70., 100.,  30., 130., 130.,  80.,  90., 170., 160., 160., 150.,\n",
       "        120., 130.,  50., 120., 100.,  90., 110.,  90.,  40.,  50.,  50.,\n",
       "         20.,  20.,  50.,  10.,   0.,   0.,  10.],\n",
       "       [  0.,   0.,  10.,  30.,  20.,  30.,  60.,  40.,  50.,  70.,  20.,\n",
       "         40., 110., 110.,  30.,  80.,  80., 160.,  50., 130., 160.,  50.,\n",
       "         80.,  80.,  60.,  90., 100., 100.,  90.,  30.,  30.,  50.,  30.,\n",
       "         50.,  40.,  50.,  30.,  30.,   0.,  10.],\n",
       "       [  0.,  10.,  10.,  20.,  20.,  50.,  10.,  70.,  40.,  20.,  50.,\n",
       "         50.,  40.,  60.,  60.,  40., 160., 110., 140., 160., 140., 140.,\n",
       "         80., 170.,  40., 140., 130.,  70.,  60.,  30.,  70.,  70.,  50.,\n",
       "         60.,  30.,  40.,  20.,  20.,  10.,  10.],\n",
       "       [  0.,  10.,  10.,  10.,  40.,  10.,  60.,  40.,  60.,  30.,  60.,\n",
       "         50.,  60.,  40., 140., 130., 130.,  90., 120., 190.,  90., 100.,\n",
       "        150., 100.,  90., 100., 100.,  70.,  50.,  60.,  80.,  60.,  60.,\n",
       "         40.,  30.,  50.,  20.,  10.,  10.,  10.],\n",
       "       [  0.,   0.,   0.,  10.,  40.,  50.,  60.,  30.,  80.,  70.,  90.,\n",
       "        100.,  80.,  60.,  50., 120., 150.,  50., 100.,  50.,  80., 130.,\n",
       "        180., 170., 140.,  90., 130.,  40., 100., 110., 100.,  80.,  80.,\n",
       "         60.,  50.,  50.,  20.,   0.,  20.,   0.],\n",
       "       [  0.,   0.,  10.,   0.,  30.,  20.,  50.,  40.,  80.,  20.,  90.,\n",
       "         30.,  30., 100., 120.,  90., 140., 110., 130.,  80.,  60., 180.,\n",
       "        110.,  90., 130., 110.,  80.,  50.,  50.,  20.,  80.,  50.,  30.,\n",
       "         50.,  40.,  10.,  30.,  10.,  10.,   0.]])"
      ]
     },
     "execution_count": 71,
     "metadata": {},
     "output_type": "execute_result"
    }
   ],
   "source": [
    "data * 10"
   ]
  },
  {
   "cell_type": "code",
   "execution_count": 72,
   "metadata": {},
   "outputs": [
    {
     "data": {
      "text/plain": [
       "array([[ 1.,  1.,  2.,  4.,  2.,  3.,  5.,  8.,  9.,  4.,  4.,  4., 11.,\n",
       "         6.,  8.,  5.,  8.,  8., 13., 19.,  7., 14., 12., 12.,  8.,  8.,\n",
       "         5.,  7.,  9.,  9.,  5.,  5.,  6.,  8.,  4.,  5.,  3.,  4.,  1.,\n",
       "         1.],\n",
       "       [ 1.,  2.,  3.,  2.,  3.,  2.,  4.,  3.,  3.,  7., 11., 12.,  6.,\n",
       "        10.,  5.,  5.,  8., 17.,  9.,  7., 19.,  5., 13.,  6., 13.,  8.,\n",
       "        12.,  6., 12.,  4.,  4.,  6.,  5.,  5.,  6.,  6.,  2.,  2.,  1.,\n",
       "         2.],\n",
       "       [ 1.,  2.,  2.,  4.,  4.,  3.,  7.,  3.,  6., 10.,  6.,  8.,  5.,\n",
       "         6.,  5., 16.,  6., 12., 10., 11., 20., 15., 13., 18.,  8., 13.,\n",
       "        12.,  8.,  5.,  3., 11.,  6.,  5.,  3.,  3.,  4.,  3.,  3.,  2.,\n",
       "         2.],\n",
       "       [ 1.,  1.,  3.,  1.,  5.,  3.,  3.,  2.,  7.,  8., 11.,  8., 10.,\n",
       "        14.,  9.,  9., 16., 11., 11.,  8., 18.,  5.,  5.,  8.,  7., 16.,\n",
       "         7.,  5., 10., 12.,  4.,  6.,  7.,  4.,  4.,  5.,  3.,  4.,  3.,\n",
       "         2.],\n",
       "       [ 1.,  2.,  2.,  4.,  4.,  2.,  4.,  6.,  3.,  5.,  5.,  8.,  7.,\n",
       "         6.,  4., 11.,  9., 11.,  7., 18., 10., 15., 10.,  8., 14., 10.,\n",
       "        13.,  7.,  8.,  8., 10.,  7.,  4.,  3.,  3.,  5.,  3.,  1.,  2.,\n",
       "         2.],\n",
       "       [ 1.,  1.,  2.,  3.,  3.,  5.,  3.,  2.,  7.,  5.,  8.,  7.,  7.,\n",
       "        10., 10., 16.,  5., 17., 19., 13., 13.,  6., 19., 10.,  6.,  4.,\n",
       "        11.,  4., 13.,  8.,  9.,  5.,  8.,  4.,  6.,  5.,  5.,  4.,  3.,\n",
       "         2.],\n",
       "       [ 1.,  1.,  3.,  3.,  5.,  3.,  3.,  6.,  6.,  9.,  7.,  6., 12.,\n",
       "        10.,  5., 14.,  6., 13., 11.,  7., 10., 18., 16.,  9., 10.,  4.,\n",
       "        14.,  8.,  9.,  3.,  9.,  9.,  5.,  3.,  4.,  6.,  5.,  2.,  2.,\n",
       "         2.],\n",
       "       [ 1.,  1.,  2.,  3.,  4.,  2.,  3.,  4.,  6.,  4.,  8.,  9.,  9.,\n",
       "         6., 11., 10., 16., 12., 19., 20., 21.,  9.,  6., 14., 16., 11.,\n",
       "         7., 11.,  7.,  8.,  5., 10.,  4.,  6.,  3.,  6.,  4.,  3.,  3.,\n",
       "         2.],\n",
       "       [ 1.,  1.,  1.,  4.,  2.,  6.,  7.,  6.,  6.,  9.,  3.,  5., 12.,\n",
       "        13., 11., 12., 10., 11., 18., 12.,  7., 17., 13.,  7.,  9., 15.,\n",
       "         7., 14., 11., 12.,  5.,  7.,  5.,  8.,  7.,  4.,  3.,  2.,  1.,\n",
       "         1.],\n",
       "       [ 1.,  2.,  2.,  3.,  2.,  4.,  6.,  4.,  6.,  9.,  7.,  9., 13.,\n",
       "         6., 14.,  7., 14.,  9., 17.,  9., 19., 16., 17., 15., 13.,  8.,\n",
       "         4.,  9., 10., 12.,  3.,  6.,  5.,  6.,  2.,  5.,  2.,  3.,  1.,\n",
       "         1.],\n",
       "       [ 1.,  2.,  1.,  1.,  5.,  4.,  4.,  6.,  6.,  5.,  6.,  9.,  8.,\n",
       "        11., 14.,  4.,  8., 14., 16., 19.,  9., 16., 16., 17., 12., 15.,\n",
       "        13.,  5., 11., 11.,  5.,  4.,  5.,  6.,  6.,  4.,  4.,  3.,  3.,\n",
       "         2.],\n",
       "       [ 1.,  2.,  1.,  1.,  4.,  5.,  3.,  8.,  9.,  6.,  3.,  9., 12.,\n",
       "         6.,  6.,  9., 15., 12.,  7., 12., 10., 17., 19.,  7., 13.,  6.,\n",
       "         5.,  4.,  6.,  8.,  9.,  4.,  6.,  5.,  6.,  6.,  5.,  1.,  2.,\n",
       "         2.],\n",
       "       [ 1.,  1.,  3.,  2.,  5.,  4.,  7.,  5.,  7.,  8., 10., 10.,  4.,\n",
       "        12.,  7., 13.,  5., 18., 14., 16., 14., 13.,  9.,  8.,  5.,  8.,\n",
       "        13., 10.,  6.,  7.,  6.,  5.,  8.,  4.,  6.,  5.,  3.,  4.,  1.,\n",
       "         2.],\n",
       "       [ 1.,  1.,  1.,  1.,  2.,  4.,  2.,  7.,  7.,  6.,  6.,  7.,  4.,\n",
       "         7., 14.,  4., 11., 14., 10., 17., 16., 10., 12.,  5.,  7.,  5.,\n",
       "        12., 12., 13.,  4.,  6.,  9.,  8.,  5.,  7.,  5.,  2.,  4.,  1.,\n",
       "         1.],\n",
       "       [ 1.,  2.,  3.,  2.,  2.,  2.,  5.,  2.,  6.,  3.,  4.,  4., 11.,\n",
       "         8., 14.,  6.,  8., 18.,  7., 10., 13., 14., 11.,  5., 13.,  5.,\n",
       "         7.,  8.,  7., 11.,  9.,  3.,  6.,  2.,  4.,  5.,  3.,  1.,  3.,\n",
       "         1.],\n",
       "       [ 1.,  2.,  2.,  1.,  2.,  3.,  5.,  4.,  7.,  5.,  8.,  6.,  6.,\n",
       "         8.,  6., 11.,  8.,  9., 19., 18., 10.,  9., 13., 12., 12., 12.,\n",
       "        15.,  7., 12.,  3., 11., 10.,  6.,  7.,  6.,  4.,  5.,  3.,  3.,\n",
       "         1.],\n",
       "       [ 1.,  1.,  1.,  1.,  3.,  4.,  7.,  6.,  8.,  5.,  4.,  3., 11.,\n",
       "         8., 10., 12., 13.,  6., 13., 10., 14., 20., 15., 18.,  6., 14.,\n",
       "         9., 12.,  6., 11., 10.,  9.,  8.,  6.,  4.,  2.,  5.,  1.,  3.,\n",
       "         2.],\n",
       "       [ 1.,  1.,  1.,  2.,  3.,  2.,  5.,  4.,  7.,  8.,  5.,  3., 13.,\n",
       "         7., 13.,  5., 15.,  8.,  9., 15., 14., 20.,  7., 10., 13.,  7.,\n",
       "         5., 14.,  7.,  8.,  3.,  4.,  7.,  6.,  5.,  3.,  4.,  1.,  2.,\n",
       "         1.],\n",
       "       [ 1.,  1.,  3.,  2.,  3.,  6.,  5.,  3.,  8.,  9.,  5.,  8., 12.,\n",
       "        10.,  9., 12., 16., 18., 12., 13.,  8., 13.,  8.,  7.,  8.,  5.,\n",
       "        14.,  6.,  8.,  7.,  7., 10.,  3.,  2.,  2.,  3.,  3.,  1.,  2.,\n",
       "         1.],\n",
       "       [ 1.,  2.,  3.,  1.,  2.,  5.,  4.,  3.,  3.,  8.,  4.,  4., 13.,\n",
       "        14., 12., 14.,  7.,  6., 10., 17., 10., 20., 17., 12.,  9., 10.,\n",
       "        15., 13., 12., 10.,  7.,  7.,  7.,  2.,  2.,  3.,  5.,  4.,  2.,\n",
       "         2.],\n",
       "       [ 1.,  2.,  2.,  4.,  2.,  5.,  5.,  2.,  9.,  3.,  3.,  4., 13.,\n",
       "        13., 11., 16., 14.,  7.,  6.,  6., 19., 20., 10.,  7., 12., 13.,\n",
       "         8.,  7.,  4.,  7.,  4.,  3.,  5.,  4.,  2.,  6.,  5.,  3.,  3.,\n",
       "         1.],\n",
       "       [ 1.,  1.,  3.,  4.,  3.,  4.,  3.,  7.,  4.,  9.,  8.,  5.,  7.,\n",
       "         7., 10.,  6., 13., 13.,  9.,  6., 13., 11., 17.,  8., 15., 13.,\n",
       "         6.,  5.,  7., 10.,  9.,  6.,  7.,  7.,  2.,  5.,  4.,  1.,  3.,\n",
       "         1.],\n",
       "       [ 1.,  1.,  1.,  4.,  5.,  6.,  2.,  8.,  8.,  9.,  3.,  6., 13.,\n",
       "         5., 11., 15.,  6.,  6., 18., 14., 17., 16., 14.,  7., 13., 10.,\n",
       "        11.,  4.,  4.,  8.,  5.,  5.,  9.,  3.,  7.,  6.,  2.,  1.,  2.,\n",
       "         1.],\n",
       "       [ 1.,  2.,  2.,  2.,  2.,  4.,  4.,  3.,  7.,  4., 10.,  8.,  9.,\n",
       "         9.,  5., 14.,  8., 15., 12., 16., 15., 14.,  6., 14.,  8., 15.,\n",
       "        10., 11.,  6., 12.,  6.,  4.,  6.,  2.,  2.,  5.,  5.,  2.,  3.,\n",
       "         1.],\n",
       "       [ 1.,  2.,  2.,  2.,  3.,  4.,  6.,  4.,  7.,  4.,  8., 11.,  4.,\n",
       "         9., 13.,  5., 13., 10., 16.,  6., 18., 17.,  6., 11., 11., 16.,\n",
       "         8.,  6.,  4., 12.,  6.,  6.,  7.,  2.,  2.,  2.,  2.,  1.,  3.,\n",
       "         2.],\n",
       "       [ 1.,  1.,  3.,  2.,  4.,  4.,  3.,  8.,  5.,  5.,  4.,  9., 13.,\n",
       "        10., 13., 10.,  6., 17.,  9., 18.,  8., 12., 15.,  8., 14., 12.,\n",
       "         8., 13., 13.,  8.,  9.,  6.,  8.,  3.,  3.,  5.,  2.,  2.,  2.,\n",
       "         1.],\n",
       "       [ 1.,  1.,  2.,  3.,  5.,  3.,  3.,  4.,  6.,  8., 11.,  6.,  6.,\n",
       "        13.,  4., 14.,  5., 14.,  8., 16., 10., 13., 19., 15., 17., 13.,\n",
       "         4., 12.,  4.,  3.,  8.,  5.,  9.,  3.,  3.,  2.,  4.,  1.,  2.,\n",
       "         2.],\n",
       "       [ 1.,  1.,  2.,  2.,  2.,  6.,  2.,  6.,  3.,  3.,  5., 11.,  5.,\n",
       "         9., 15.,  7., 16.,  7., 13., 16., 16., 14.,  8., 18.,  5.,  6.,\n",
       "        12.,  5.,  9.,  8., 10.,  5.,  6.,  4.,  3.,  6.,  5.,  4.,  3.,\n",
       "         2.],\n",
       "       [ 1.,  1.,  3.,  3.,  4.,  5.,  7.,  4.,  8.,  7.,  5.,  6.,  9.,\n",
       "         5.,  8.,  8.,  7., 12., 13., 20., 21., 19., 10.,  6.,  5.,  8.,\n",
       "        15.,  9.,  5.,  4.,  8.,  8.,  9.,  4.,  6.,  5.,  2.,  4.,  2.,\n",
       "         1.],\n",
       "       [ 1.,  1.,  1.,  2.,  5.,  5.,  7.,  4.,  9.,  7.,  5., 11., 13.,\n",
       "         4.,  4.,  7.,  9.,  8., 18., 17., 15., 16., 18.,  5., 15., 14.,\n",
       "         5.,  5., 13., 12.,  7., 10.,  6.,  6.,  3.,  6.,  3.,  2.,  1.,\n",
       "         2.],\n",
       "       [ 1.,  2.,  2.,  1.,  4.,  3.,  5.,  7.,  9.,  7.,  3.,  4., 12.,\n",
       "         4., 15., 15., 13.,  9.,  9., 17., 14.,  8.,  7., 10., 16.,  8.,\n",
       "         7.,  5., 11.,  9., 11.,  5.,  3.,  7.,  6.,  6.,  3.,  4.,  3.,\n",
       "         2.],\n",
       "       [ 1.,  1.,  3.,  4.,  4.,  5.,  6.,  4.,  7.,  8., 11.,  6., 11.,\n",
       "        14., 15.,  4.,  9., 11., 10., 10., 20., 16., 16.,  7.,  9.,  9.,\n",
       "        12.,  6.,  6.,  8.,  4.,  7.,  7.,  5.,  6.,  3.,  3.,  4.,  1.,\n",
       "         1.],\n",
       "       [ 1.,  2.,  3.,  3.,  3.,  4.,  7.,  7.,  7.,  8.,  7.,  4., 12.,\n",
       "        13., 14., 16., 16., 11., 15., 12., 12.,  9.,  7., 13., 11.,  6.,\n",
       "        13.,  8.,  8., 12.,  6.,  9.,  6.,  3.,  6.,  6.,  3.,  1.,  3.,\n",
       "         2.],\n",
       "       [ 1.,  1.,  3.,  2.,  4.,  6.,  7.,  8.,  6.,  9., 10.,  4., 13.,\n",
       "        11., 13.,  5., 13., 10., 14., 11., 11.,  7., 11., 12.,  5., 16.,\n",
       "        14.,  8.,  4.,  5.,  3., 10.,  8.,  3.,  5.,  3.,  2.,  3.,  2.,\n",
       "         2.],\n",
       "       [ 1.,  1.,  2.,  3.,  5.,  2.,  6.,  6.,  3.,  4.,  5.,  9.,  9.,\n",
       "        13.,  6., 16., 10., 18.,  8., 20., 15., 19., 13., 18., 15.,  5.,\n",
       "        14., 14.,  9., 12.,  6.,  7.,  7.,  3.,  4.,  6.,  3.,  2.,  2.,\n",
       "         2.],\n",
       "       [ 1.,  1.,  1.,  4.,  2.,  4.,  7.,  5.,  4.,  5.,  9.,  4.,  5.,\n",
       "         9.,  4., 12.,  6.,  8., 11.,  6., 16., 10., 17., 18., 17.,  4.,\n",
       "         9., 10.,  9.,  4.,  4., 10.,  6.,  2.,  7.,  6.,  5.,  3.,  3.,\n",
       "         1.],\n",
       "       [ 1.,  2.,  3.,  3.,  3.,  6.,  6.,  2.,  5.,  7.,  4.,  7.,  6.,\n",
       "        10.,  7.,  8.,  5.,  8., 17.,  8., 17., 14., 10., 17., 13.,  7.,\n",
       "         8., 10., 11.,  4.,  7.,  5.,  6.,  5.,  7.,  4.,  5.,  4.,  3.,\n",
       "         2.],\n",
       "       [ 1.,  2.,  2.,  3.,  4.,  2.,  6.,  2.,  3.,  3.,  6.,  8.,  7.,\n",
       "         7.,  6., 11.,  7.,  8., 18., 14., 16., 17., 18., 15.,  5.,  5.,\n",
       "        11., 11., 11., 12., 10., 10.,  6.,  5.,  5.,  3.,  2.,  1.,  2.,\n",
       "         1.],\n",
       "       [ 1.,  2.,  1.,  4.,  3.,  5.,  2.,  2.,  6., 10., 11.,  8., 13.,\n",
       "        11., 10., 16., 13., 14., 14.,  7., 20., 10., 11.,  7., 14.,  6.,\n",
       "        14.,  7.,  8.,  3.,  6.,  6.,  3.,  2.,  2.,  2.,  2.,  4.,  1.,\n",
       "         2.],\n",
       "       [ 1.,  2.,  2.,  4.,  2.,  2.,  6.,  6.,  4.,  8.,  3.,  3.,  4.,\n",
       "        13.,  5.,  7.,  9., 16., 17., 17., 16.,  5., 15.,  6., 14., 11.,\n",
       "         8., 11.,  7.,  4.,  3.,  4.,  7.,  4.,  4.,  6.,  5.,  4.,  3.,\n",
       "         2.],\n",
       "       [ 1.,  1.,  1.,  3.,  3.,  2.,  4.,  5.,  6.,  6.,  7.,  6.,  6.,\n",
       "        13., 14.,  6.,  8.,  6., 12., 16., 19.,  8., 10., 11., 15., 13.,\n",
       "        12., 10., 11.,  4.,  3., 10.,  7.,  3.,  3.,  6.,  4.,  1.,  1.,\n",
       "         2.],\n",
       "       [ 1.,  1.,  2.,  4.,  4.,  2.,  3.,  2.,  9., 10.,  3.,  9., 11.,\n",
       "         4.,  9.,  7., 11., 14., 12., 18., 20.,  7.,  5., 12.,  7., 13.,\n",
       "         8.,  6.,  6.,  5.,  5.,  9.,  3.,  7.,  7.,  5.,  3.,  3.,  1.,\n",
       "         1.],\n",
       "       [ 1.,  2.,  2.,  4.,  5.,  6.,  3.,  2.,  4.,  8., 10.,  7., 11.,\n",
       "         6.,  9., 16., 12., 13., 16.,  7., 13., 17.,  7.,  5., 15.,  4.,\n",
       "        13., 10.,  7., 12.,  6.,  9.,  6.,  6.,  7.,  2.,  3.,  2.,  3.,\n",
       "         1.],\n",
       "       [ 1.,  1.,  2.,  4.,  2.,  5.,  4.,  7.,  8.,  9.,  6.,  8., 12.,\n",
       "         4.,  7., 12.,  7., 11.,  7., 20., 19., 15.,  7., 11.,  8., 10.,\n",
       "         9.,  6.,  9.,  4., 11.,  3.,  6.,  2.,  6.,  5.,  3.,  2.,  1.,\n",
       "         2.],\n",
       "       [ 1.,  2.,  2.,  4.,  4.,  5.,  5.,  7.,  4.,  5., 10., 10.,  8.,\n",
       "         7.,  9., 16., 13., 16.,  7., 12.,  7., 19.,  6., 15., 16., 13.,\n",
       "        10.,  9.,  4.,  7., 11.,  7.,  9.,  8.,  3.,  6.,  5.,  4.,  2.,\n",
       "         2.],\n",
       "       [ 1.,  2.,  3.,  3.,  5.,  4.,  2.,  5.,  9., 10.,  6., 11., 11.,\n",
       "         4.,  5.,  7.,  8., 12., 17.,  7., 15., 10., 12., 11., 11.,  8.,\n",
       "        11.,  9.,  9.,  5.,  6.,  9.,  5.,  5.,  6.,  3.,  5.,  2.,  2.,\n",
       "         1.],\n",
       "       [ 1.,  1.,  3.,  4.,  5.,  6.,  5.,  7.,  3., 10.,  8.,  5., 10.,\n",
       "        11.,  9., 12., 17., 13., 16., 18., 20., 11., 19., 14., 16., 12.,\n",
       "         9.,  5.,  8., 12.,  7.,  8.,  7.,  6.,  2.,  4.,  2.,  1.,  1.,\n",
       "         1.],\n",
       "       [ 1.,  2.,  2.,  4.,  2.,  5.,  7.,  3.,  9.,  3., 11.,  4., 12.,\n",
       "        10., 14., 16.,  6., 16.,  7., 11., 11.,  6., 15., 16., 13.,  8.,\n",
       "         5.,  6., 12.,  5.,  7., 10.,  6.,  7.,  2.,  2.,  3.,  2.,  3.,\n",
       "         2.],\n",
       "       [ 1.,  1.,  2.,  4.,  3.,  6.,  2.,  3.,  8.,  7.,  7.,  4., 13.,\n",
       "        10.,  5., 15.,  5.,  7., 13., 10., 13.,  8., 12.,  8., 17.,  9.,\n",
       "        14.,  7.,  8.,  7., 11.,  8.,  7.,  4.,  2.,  6.,  5.,  4.,  1.,\n",
       "         1.],\n",
       "       [ 1.,  1.,  2.,  3.,  4.,  5.,  6.,  8.,  6.,  5., 11.,  6., 13.,\n",
       "        13.,  6.,  5.,  8., 10., 19., 17., 17., 11., 16., 16., 11.,  5.,\n",
       "         4.,  8.,  6., 10.,  5.,  7.,  3.,  5.,  2.,  5.,  3.,  3.,  3.,\n",
       "         2.],\n",
       "       [ 1.,  2.,  3.,  2.,  2.,  4.,  6.,  4.,  7.,  4., 11., 11., 12.,\n",
       "        11., 14., 11., 14.,  7.,  7., 15.,  6.,  5.,  6.,  6., 10.,  5.,\n",
       "        13.,  8.,  8.,  5.,  8., 10.,  4.,  4.,  7.,  4.,  5.,  2.,  3.,\n",
       "         1.],\n",
       "       [ 1.,  2.,  3.,  3.,  4.,  6.,  3.,  5.,  6.,  7.,  9.,  4.,  6.,\n",
       "         5.,  4., 16., 16., 13., 17.,  8., 21., 16., 13.,  9., 10.,  7.,\n",
       "        13.,  6.,  9.,  4.,  9.,  6.,  5.,  2.,  4.,  3.,  2.,  4.,  2.,\n",
       "         1.],\n",
       "       [ 1.,  1.,  1.,  3.,  5.,  5.,  6.,  4.,  4.,  4., 11.,  5.,  5.,\n",
       "         5., 15., 12., 16., 14., 11., 15., 12., 18., 10., 12., 12.,  8.,\n",
       "        11., 13., 11., 11., 11.,  9.,  8.,  6.,  3.,  3.,  5.,  2.,  3.,\n",
       "         2.],\n",
       "       [ 1.,  1.,  3.,  2.,  2.,  5.,  5.,  8.,  3., 10.,  5., 11., 13.,\n",
       "         8.,  7.,  7., 12., 13., 10., 16., 16.,  7.,  7., 14.,  6., 13.,\n",
       "        10.,  7.,  5.,  8.,  8.,  7.,  6.,  5.,  2.,  5.,  3.,  3.,  3.,\n",
       "         2.],\n",
       "       [ 1.,  2.,  3.,  2.,  2.,  5.,  6.,  5.,  5.,  6., 10.,  8., 11.,\n",
       "         4., 14., 14.,  9., 10., 18., 17., 17., 16., 13., 14.,  6., 13.,\n",
       "        11., 10., 12., 10.,  5.,  6.,  6.,  3.,  3.,  6.,  2.,  1.,  1.,\n",
       "         2.],\n",
       "       [ 1.,  1.,  2.,  4.,  3.,  4.,  7.,  5.,  6.,  8.,  3.,  5., 12.,\n",
       "        12.,  4.,  9.,  9., 17.,  6., 14., 17.,  6.,  9.,  9.,  7., 10.,\n",
       "        11., 11., 10.,  4.,  4.,  6.,  4.,  6.,  5.,  6.,  4.,  4.,  1.,\n",
       "         2.],\n",
       "       [ 1.,  2.,  2.,  3.,  3.,  6.,  2.,  8.,  5.,  3.,  6.,  6.,  5.,\n",
       "         7.,  7.,  5., 17., 12., 15., 17., 15., 15.,  9., 18.,  5., 15.,\n",
       "        14.,  8.,  7.,  4.,  8.,  8.,  6.,  7.,  4.,  5.,  3.,  3.,  2.,\n",
       "         2.],\n",
       "       [ 1.,  2.,  2.,  2.,  5.,  2.,  7.,  5.,  7.,  4.,  7.,  6.,  7.,\n",
       "         5., 15., 14., 14., 10., 13., 20., 10., 11., 16., 11., 10., 11.,\n",
       "        11.,  8.,  6.,  7.,  9.,  7.,  7.,  5.,  4.,  6.,  3.,  2.,  2.,\n",
       "         2.],\n",
       "       [ 1.,  1.,  1.,  2.,  5.,  6.,  7.,  4.,  9.,  8., 10., 11.,  9.,\n",
       "         7.,  6., 13., 16.,  6., 11.,  6.,  9., 14., 19., 18., 15., 10.,\n",
       "        14.,  5., 11., 12., 11.,  9.,  9.,  7.,  6.,  6.,  3.,  1.,  3.,\n",
       "         1.],\n",
       "       [ 1.,  1.,  2.,  1.,  4.,  3.,  6.,  5.,  9.,  3., 10.,  4.,  4.,\n",
       "        11., 13., 10., 15., 12., 14.,  9.,  7., 19., 12., 10., 14., 12.,\n",
       "         9.,  6.,  6.,  3.,  9.,  6.,  4.,  6.,  5.,  2.,  4.,  2.,  2.,\n",
       "         1.]])"
      ]
     },
     "execution_count": 72,
     "metadata": {},
     "output_type": "execute_result"
    }
   ],
   "source": [
    "data + 1"
   ]
  },
  {
   "cell_type": "code",
   "execution_count": 74,
   "metadata": {},
   "outputs": [
    {
     "data": {
      "text/plain": [
       "6.14875"
      ]
     },
     "execution_count": 74,
     "metadata": {},
     "output_type": "execute_result"
    }
   ],
   "source": [
    "# Function on Arrays\n",
    "# numpy.mean(data)\n",
    "\n",
    "data.mean()"
   ]
  },
  {
   "cell_type": "code",
   "execution_count": 77,
   "metadata": {},
   "outputs": [],
   "source": [
    "averages = numpy.mean(data, axis = 1)"
   ]
  },
  {
   "cell_type": "code",
   "execution_count": 78,
   "metadata": {},
   "outputs": [
    {
     "data": {
      "text/plain": [
       "(60,)"
      ]
     },
     "execution_count": 78,
     "metadata": {},
     "output_type": "execute_result"
    }
   ],
   "source": [
    "averages.shape"
   ]
  },
  {
   "cell_type": "code",
   "execution_count": 79,
   "metadata": {},
   "outputs": [],
   "source": [
    "otheraverages = numpy.mean(data, axis = 0)"
   ]
  },
  {
   "cell_type": "code",
   "execution_count": 83,
   "metadata": {},
   "outputs": [],
   "source": [
    "numpy.mean?"
   ]
  },
  {
   "cell_type": "code",
   "execution_count": 80,
   "metadata": {},
   "outputs": [
    {
     "data": {
      "text/plain": [
       "(40,)"
      ]
     },
     "execution_count": 80,
     "metadata": {},
     "output_type": "execute_result"
    }
   ],
   "source": [
    "otheraverages.shape"
   ]
  },
  {
   "cell_type": "code",
   "execution_count": 84,
   "metadata": {},
   "outputs": [
    {
     "data": {
      "text/plain": [
       "(60, 40)"
      ]
     },
     "execution_count": 84,
     "metadata": {},
     "output_type": "execute_result"
    }
   ],
   "source": [
    "data.shape"
   ]
  },
  {
   "cell_type": "code",
   "execution_count": 81,
   "metadata": {},
   "outputs": [
    {
     "data": {
      "text/plain": [
       "dtype('float64')"
      ]
     },
     "execution_count": 81,
     "metadata": {},
     "output_type": "execute_result"
    }
   ],
   "source": [
    "data.dtype"
   ]
  },
  {
   "cell_type": "code",
   "execution_count": 82,
   "metadata": {},
   "outputs": [
    {
     "data": {
      "text/plain": [
       "6.14875"
      ]
     },
     "execution_count": 82,
     "metadata": {},
     "output_type": "execute_result"
    }
   ],
   "source": [
    "data.mean()"
   ]
  },
  {
   "cell_type": "code",
   "execution_count": null,
   "metadata": {},
   "outputs": [],
   "source": [
    "# Mean on Different Axes"
   ]
  },
  {
   "cell_type": "code",
   "execution_count": 85,
   "metadata": {},
   "outputs": [],
   "source": [
    "# Notes on Functions\n",
    "import time"
   ]
  },
  {
   "cell_type": "code",
   "execution_count": 86,
   "metadata": {},
   "outputs": [
    {
     "data": {
      "text/plain": [
       "'Mon Jul  8 14:04:09 2019'"
      ]
     },
     "execution_count": 86,
     "metadata": {},
     "output_type": "execute_result"
    }
   ],
   "source": [
    "time.ctime()"
   ]
  },
  {
   "cell_type": "code",
   "execution_count": 90,
   "metadata": {},
   "outputs": [],
   "source": [
    "# Assigning Multiple Variables\n",
    "var1, var2, var3 = 212, 123, \"hi\""
   ]
  },
  {
   "cell_type": "code",
   "execution_count": 91,
   "metadata": {},
   "outputs": [
    {
     "name": "stdout",
     "output_type": "stream",
     "text": [
      "212\n",
      "123\n",
      "hi\n"
     ]
    }
   ],
   "source": [
    "print(var1)\n",
    "print(var2)\n",
    "print(var3)"
   ]
  },
  {
   "cell_type": "code",
   "execution_count": null,
   "metadata": {},
   "outputs": [],
   "source": [
    "# Assigning Measurements of One Patient\n",
    "# Find max: numpy.max"
   ]
  },
  {
   "cell_type": "code",
   "execution_count": 93,
   "metadata": {},
   "outputs": [
    {
     "data": {
      "text/plain": [
       "18.0"
      ]
     },
     "execution_count": 93,
     "metadata": {},
     "output_type": "execute_result"
    }
   ],
   "source": [
    "numpy.max(data[1, :])"
   ]
  },
  {
   "cell_type": "code",
   "execution_count": 94,
   "metadata": {},
   "outputs": [
    {
     "data": {
      "text/plain": [
       "array([ 0.,  1.,  2.,  1.,  2.,  1.,  3.,  2.,  2.,  6., 10., 11.,  5.,\n",
       "        9.,  4.,  4.,  7., 16.,  8.,  6., 18.,  4., 12.,  5., 12.,  7.,\n",
       "       11.,  5., 11.,  3.,  3.,  5.,  4.,  4.,  5.,  5.,  1.,  1.,  0.,\n",
       "        1.])"
      ]
     },
     "execution_count": 94,
     "metadata": {},
     "output_type": "execute_result"
    }
   ],
   "source": [
    "data[1, :]"
   ]
  },
  {
   "cell_type": "code",
   "execution_count": 95,
   "metadata": {},
   "outputs": [
    {
     "data": {
      "text/plain": [
       "array([ 0.,  1.,  2.,  1.,  2.,  1.,  3.,  2.,  2.,  6., 10., 11.,  5.,\n",
       "        9.,  4.,  4.,  7., 16.,  8.,  6., 18.,  4., 12.,  5., 12.,  7.,\n",
       "       11.,  5., 11.,  3.,  3.,  5.,  4.,  4.,  5.,  5.,  1.,  1.,  0.,\n",
       "        1.])"
      ]
     },
     "execution_count": 95,
     "metadata": {},
     "output_type": "execute_result"
    }
   ],
   "source": [
    "data[1, ]"
   ]
  },
  {
   "cell_type": "code",
   "execution_count": 96,
   "metadata": {},
   "outputs": [
    {
     "data": {
      "text/plain": [
       "18.0"
      ]
     },
     "execution_count": 96,
     "metadata": {},
     "output_type": "execute_result"
    }
   ],
   "source": [
    "data[1, ].max()"
   ]
  },
  {
   "cell_type": "code",
   "execution_count": 97,
   "metadata": {},
   "outputs": [
    {
     "data": {
      "text/plain": [
       "18.0"
      ]
     },
     "execution_count": 97,
     "metadata": {},
     "output_type": "execute_result"
    }
   ],
   "source": [
    "patient1 = data[1, ]\n",
    "numpy.max(patient1)"
   ]
  },
  {
   "cell_type": "code",
   "execution_count": 92,
   "metadata": {},
   "outputs": [
    {
     "data": {
      "text/plain": [
       "(60, 40)"
      ]
     },
     "execution_count": 92,
     "metadata": {},
     "output_type": "execute_result"
    }
   ],
   "source": [
    "data.shape"
   ]
  },
  {
   "cell_type": "markdown",
   "metadata": {},
   "source": [
    "### Producing Plots"
   ]
  },
  {
   "cell_type": "code",
   "execution_count": 103,
   "metadata": {},
   "outputs": [],
   "source": [
    "# MatPlotLib\n",
    "%matplotlib inline\n",
    "import matplotlib.pyplot as plt"
   ]
  },
  {
   "cell_type": "code",
   "execution_count": 105,
   "metadata": {},
   "outputs": [
    {
     "data": {
      "image/png": "[encoded data removed]",
      "text/plain": [
       "<Figure size 432x288 with 1 Axes>"
      ]
     },
     "metadata": {
      "needs_background": "light"
     },
     "output_type": "display_data"
    }
   ],
   "source": [
    "plt.imshow(data)\n",
    "plt.show()"
   ]
  },
  {
   "cell_type": "code",
   "execution_count": 106,
   "metadata": {},
   "outputs": [],
   "source": [
    "# plt.plot()\n",
    "plt.plot?"
   ]
  },
  {
   "cell_type": "code",
   "execution_count": 107,
   "metadata": {},
   "outputs": [
    {
     "data": {
      "image/png": "[encoded data removed]",
      "text/plain": [
       "<Figure size 432x288 with 1 Axes>"
      ]
     },
     "metadata": {
      "needs_background": "light"
     },
     "output_type": "display_data"
    }
   ],
   "source": [
    "for d in data:\n",
    "    plt.plot(d)\n",
    "plt.show()"
   ]
  },
  {
   "cell_type": "code",
   "execution_count": 108,
   "metadata": {},
   "outputs": [
    {
     "data": {
      "text/plain": [
       "array([ 0.,  0.,  1.,  0.,  3.,  2.,  5.,  4.,  8.,  2.,  9.,  3.,  3.,\n",
       "       10., 12.,  9., 14., 11., 13.,  8.,  6., 18., 11.,  9., 13., 11.,\n",
       "        8.,  5.,  5.,  2.,  8.,  5.,  3.,  5.,  4.,  1.,  3.,  1.,  1.,\n",
       "        0.])"
      ]
     },
     "execution_count": 108,
     "metadata": {},
     "output_type": "execute_result"
    }
   ],
   "source": [
    "d"
   ]
  },
  {
   "cell_type": "code",
   "execution_count": 113,
   "metadata": {},
   "outputs": [
    {
     "data": {
      "image/png": "[encoded data removed]",
      "text/plain": [
       "<Figure size 432x288 with 1 Axes>"
      ]
     },
     "metadata": {
      "needs_background": "light"
     },
     "output_type": "display_data"
    }
   ],
   "source": [
    "plt.plot(numpy.mean(data, 0))\n",
    "plt.show()"
   ]
  },
  {
   "cell_type": "code",
   "execution_count": null,
   "metadata": {
    "scrolled": true
   },
   "outputs": [],
   "source": [
    "# What is the max for each patient?\n",
    "# What is the min for each patient?\n",
    "# Create a plot for each of these questions."
   ]
  },
  {
   "cell_type": "code",
   "execution_count": 129,
   "metadata": {
    "scrolled": true
   },
   "outputs": [
    {
     "data": {
      "image/png": "[encoded data removed]",
      "text/plain": [
       "<Figure size 432x288 with 2 Axes>"
      ]
     },
     "metadata": {
      "needs_background": "light"
     },
     "output_type": "display_data"
    }
   ],
   "source": [
    "# Figure Dimensions\n",
    "fig = plt.figure()\n",
    "\n",
    "# Using Subplots\n",
    "# fig.add_subplot?\n",
    "fig.add_subplot?\n",
    "axes1 = fig.add_subplot(1, 2, 1)\n",
    "axes2 = fig.add_subplot(1, 2, 2)\n",
    "# axes3 = fig.add_subplot(1, 3, 3)\n",
    "\n",
    "axes1.set_ylabel('average')\n",
    "axes1.plot(numpy.mean(data, axis=0))\n",
    "\n",
    "axes2.set_ylabel('max')\n",
    "axes2.plot(numpy.max(data, axis=0))\n",
    "axes2.plot(numpy.min(data, axis=0))\n",
    "\n",
    "#axes3.set_ylabel('min')\n",
    "# axes3.plot(numpy.min(data, axis=0))\n",
    "# axes3.plot(numpy.mean(data, axis=0))\n",
    "\n",
    "fig.tight_layout()\n",
    "\n",
    "plt.show()\n",
    "\n",
    "# Labeling Axes\n",
    "# axes1.set_ylabel()\n",
    "\n",
    "# fig.tight_layout()"
   ]
  },
  {
   "cell_type": "code",
   "execution_count": null,
   "metadata": {},
   "outputs": [],
   "source": []
  },
  {
   "cell_type": "markdown",
   "metadata": {},
   "source": [
    "### String Manipulations"
   ]
  },
  {
   "cell_type": "code",
   "execution_count": 130,
   "metadata": {},
   "outputs": [],
   "source": [
    "# Slicing a String\n",
    "word = \"dinner\"\n",
    "\n",
    "# What about negative?"
   ]
  },
  {
   "cell_type": "code",
   "execution_count": 131,
   "metadata": {},
   "outputs": [
    {
     "data": {
      "text/plain": [
       "'dinner'"
      ]
     },
     "execution_count": 131,
     "metadata": {},
     "output_type": "execute_result"
    }
   ],
   "source": [
    "word"
   ]
  },
  {
   "cell_type": "code",
   "execution_count": 132,
   "metadata": {},
   "outputs": [
    {
     "data": {
      "text/plain": [
       "'d'"
      ]
     },
     "execution_count": 132,
     "metadata": {},
     "output_type": "execute_result"
    }
   ],
   "source": [
    "word[0]"
   ]
  },
  {
   "cell_type": "code",
   "execution_count": 133,
   "metadata": {},
   "outputs": [
    {
     "data": {
      "text/plain": [
       "'din'"
      ]
     },
     "execution_count": 133,
     "metadata": {},
     "output_type": "execute_result"
    }
   ],
   "source": [
    "word[0:3]"
   ]
  },
  {
   "cell_type": "code",
   "execution_count": 134,
   "metadata": {},
   "outputs": [
    {
     "data": {
      "text/plain": [
       "'e'"
      ]
     },
     "execution_count": 134,
     "metadata": {},
     "output_type": "execute_result"
    }
   ],
   "source": [
    "word[-2]"
   ]
  },
  {
   "cell_type": "code",
   "execution_count": 135,
   "metadata": {},
   "outputs": [
    {
     "data": {
      "text/plain": [
       "'r'"
      ]
     },
     "execution_count": 135,
     "metadata": {},
     "output_type": "execute_result"
    }
   ],
   "source": [
    "word[-1]"
   ]
  },
  {
   "cell_type": "code",
   "execution_count": 136,
   "metadata": {},
   "outputs": [
    {
     "data": {
      "text/plain": [
       "0.0"
      ]
     },
     "execution_count": 136,
     "metadata": {},
     "output_type": "execute_result"
    }
   ],
   "source": [
    "data[-1, -1]"
   ]
  },
  {
   "cell_type": "code",
   "execution_count": 137,
   "metadata": {},
   "outputs": [
    {
     "data": {
      "text/plain": [
       "array([[ 0.,  0.,  1.,  3.,  1.,  2.,  4.,  7.,  8.,  3.,  3.,  3., 10.,\n",
       "         5.,  7.,  4.,  7.,  7., 12., 18.,  6., 13., 11., 11.,  7.,  7.,\n",
       "         4.,  6.,  8.,  8.,  4.,  4.,  5.,  7.,  3.,  4.,  2.,  3.,  0.,\n",
       "         0.],\n",
       "       [ 0.,  1.,  2.,  1.,  2.,  1.,  3.,  2.,  2.,  6., 10., 11.,  5.,\n",
       "         9.,  4.,  4.,  7., 16.,  8.,  6., 18.,  4., 12.,  5., 12.,  7.,\n",
       "        11.,  5., 11.,  3.,  3.,  5.,  4.,  4.,  5.,  5.,  1.,  1.,  0.,\n",
       "         1.],\n",
       "       [ 0.,  1.,  1.,  3.,  3.,  2.,  6.,  2.,  5.,  9.,  5.,  7.,  4.,\n",
       "         5.,  4., 15.,  5., 11.,  9., 10., 19., 14., 12., 17.,  7., 12.,\n",
       "        11.,  7.,  4.,  2., 10.,  5.,  4.,  2.,  2.,  3.,  2.,  2.,  1.,\n",
       "         1.],\n",
       "       [ 0.,  0.,  2.,  0.,  4.,  2.,  2.,  1.,  6.,  7., 10.,  7.,  9.,\n",
       "        13.,  8.,  8., 15., 10., 10.,  7., 17.,  4.,  4.,  7.,  6., 15.,\n",
       "         6.,  4.,  9., 11.,  3.,  5.,  6.,  3.,  3.,  4.,  2.,  3.,  2.,\n",
       "         1.],\n",
       "       [ 0.,  1.,  1.,  3.,  3.,  1.,  3.,  5.,  2.,  4.,  4.,  7.,  6.,\n",
       "         5.,  3., 10.,  8., 10.,  6., 17.,  9., 14.,  9.,  7., 13.,  9.,\n",
       "        12.,  6.,  7.,  7.,  9.,  6.,  3.,  2.,  2.,  4.,  2.,  0.,  1.,\n",
       "         1.],\n",
       "       [ 0.,  0.,  1.,  2.,  2.,  4.,  2.,  1.,  6.,  4.,  7.,  6.,  6.,\n",
       "         9.,  9., 15.,  4., 16., 18., 12., 12.,  5., 18.,  9.,  5.,  3.,\n",
       "        10.,  3., 12.,  7.,  8.,  4.,  7.,  3.,  5.,  4.,  4.,  3.,  2.,\n",
       "         1.],\n",
       "       [ 0.,  0.,  2.,  2.,  4.,  2.,  2.,  5.,  5.,  8.,  6.,  5., 11.,\n",
       "         9.,  4., 13.,  5., 12., 10.,  6.,  9., 17., 15.,  8.,  9.,  3.,\n",
       "        13.,  7.,  8.,  2.,  8.,  8.,  4.,  2.,  3.,  5.,  4.,  1.,  1.,\n",
       "         1.],\n",
       "       [ 0.,  0.,  1.,  2.,  3.,  1.,  2.,  3.,  5.,  3.,  7.,  8.,  8.,\n",
       "         5., 10.,  9., 15., 11., 18., 19., 20.,  8.,  5., 13., 15., 10.,\n",
       "         6., 10.,  6.,  7.,  4.,  9.,  3.,  5.,  2.,  5.,  3.,  2.,  2.,\n",
       "         1.],\n",
       "       [ 0.,  0.,  0.,  3.,  1.,  5.,  6.,  5.,  5.,  8.,  2.,  4., 11.,\n",
       "        12., 10., 11.,  9., 10., 17., 11.,  6., 16., 12.,  6.,  8., 14.,\n",
       "         6., 13., 10., 11.,  4.,  6.,  4.,  7.,  6.,  3.,  2.,  1.,  0.,\n",
       "         0.],\n",
       "       [ 0.,  1.,  1.,  2.,  1.,  3.,  5.,  3.,  5.,  8.,  6.,  8., 12.,\n",
       "         5., 13.,  6., 13.,  8., 16.,  8., 18., 15., 16., 14., 12.,  7.,\n",
       "         3.,  8.,  9., 11.,  2.,  5.,  4.,  5.,  1.,  4.,  1.,  2.,  0.,\n",
       "         0.],\n",
       "       [ 0.,  1.,  0.,  0.,  4.,  3.,  3.,  5.,  5.,  4.,  5.,  8.,  7.,\n",
       "        10., 13.,  3.,  7., 13., 15., 18.,  8., 15., 15., 16., 11., 14.,\n",
       "        12.,  4., 10., 10.,  4.,  3.,  4.,  5.,  5.,  3.,  3.,  2.,  2.,\n",
       "         1.],\n",
       "       [ 0.,  1.,  0.,  0.,  3.,  4.,  2.,  7.,  8.,  5.,  2.,  8., 11.,\n",
       "         5.,  5.,  8., 14., 11.,  6., 11.,  9., 16., 18.,  6., 12.,  5.,\n",
       "         4.,  3.,  5.,  7.,  8.,  3.,  5.,  4.,  5.,  5.,  4.,  0.,  1.,\n",
       "         1.],\n",
       "       [ 0.,  0.,  2.,  1.,  4.,  3.,  6.,  4.,  6.,  7.,  9.,  9.,  3.,\n",
       "        11.,  6., 12.,  4., 17., 13., 15., 13., 12.,  8.,  7.,  4.,  7.,\n",
       "        12.,  9.,  5.,  6.,  5.,  4.,  7.,  3.,  5.,  4.,  2.,  3.,  0.,\n",
       "         1.],\n",
       "       [ 0.,  0.,  0.,  0.,  1.,  3.,  1.,  6.,  6.,  5.,  5.,  6.,  3.,\n",
       "         6., 13.,  3., 10., 13.,  9., 16., 15.,  9., 11.,  4.,  6.,  4.,\n",
       "        11., 11., 12.,  3.,  5.,  8.,  7.,  4.,  6.,  4.,  1.,  3.,  0.,\n",
       "         0.],\n",
       "       [ 0.,  1.,  2.,  1.,  1.,  1.,  4.,  1.,  5.,  2.,  3.,  3., 10.,\n",
       "         7., 13.,  5.,  7., 17.,  6.,  9., 12., 13., 10.,  4., 12.,  4.,\n",
       "         6.,  7.,  6., 10.,  8.,  2.,  5.,  1.,  3.,  4.,  2.,  0.,  2.,\n",
       "         0.],\n",
       "       [ 0.,  1.,  1.,  0.,  1.,  2.,  4.,  3.,  6.,  4.,  7.,  5.,  5.,\n",
       "         7.,  5., 10.,  7.,  8., 18., 17.,  9.,  8., 12., 11., 11., 11.,\n",
       "        14.,  6., 11.,  2., 10.,  9.,  5.,  6.,  5.,  3.,  4.,  2.,  2.,\n",
       "         0.],\n",
       "       [ 0.,  0.,  0.,  0.,  2.,  3.,  6.,  5.,  7.,  4.,  3.,  2., 10.,\n",
       "         7.,  9., 11., 12.,  5., 12.,  9., 13., 19., 14., 17.,  5., 13.,\n",
       "         8., 11.,  5., 10.,  9.,  8.,  7.,  5.,  3.,  1.,  4.,  0.,  2.,\n",
       "         1.],\n",
       "       [ 0.,  0.,  0.,  1.,  2.,  1.,  4.,  3.,  6.,  7.,  4.,  2., 12.,\n",
       "         6., 12.,  4., 14.,  7.,  8., 14., 13., 19.,  6.,  9., 12.,  6.,\n",
       "         4., 13.,  6.,  7.,  2.,  3.,  6.,  5.,  4.,  2.,  3.,  0.,  1.,\n",
       "         0.],\n",
       "       [ 0.,  0.,  2.,  1.,  2.,  5.,  4.,  2.,  7.,  8.,  4.,  7., 11.,\n",
       "         9.,  8., 11., 15., 17., 11., 12.,  7., 12.,  7.,  6.,  7.,  4.,\n",
       "        13.,  5.,  7.,  6.,  6.,  9.,  2.,  1.,  1.,  2.,  2.,  0.,  1.,\n",
       "         0.],\n",
       "       [ 0.,  1.,  2.,  0.,  1.,  4.,  3.,  2.,  2.,  7.,  3.,  3., 12.,\n",
       "        13., 11., 13.,  6.,  5.,  9., 16.,  9., 19., 16., 11.,  8.,  9.,\n",
       "        14., 12., 11.,  9.,  6.,  6.,  6.,  1.,  1.,  2.,  4.,  3.,  1.,\n",
       "         1.],\n",
       "       [ 0.,  1.,  1.,  3.,  1.,  4.,  4.,  1.,  8.,  2.,  2.,  3., 12.,\n",
       "        12., 10., 15., 13.,  6.,  5.,  5., 18., 19.,  9.,  6., 11., 12.,\n",
       "         7.,  6.,  3.,  6.,  3.,  2.,  4.,  3.,  1.,  5.,  4.,  2.,  2.,\n",
       "         0.],\n",
       "       [ 0.,  0.,  2.,  3.,  2.,  3.,  2.,  6.,  3.,  8.,  7.,  4.,  6.,\n",
       "         6.,  9.,  5., 12., 12.,  8.,  5., 12., 10., 16.,  7., 14., 12.,\n",
       "         5.,  4.,  6.,  9.,  8.,  5.,  6.,  6.,  1.,  4.,  3.,  0.,  2.,\n",
       "         0.],\n",
       "       [ 0.,  0.,  0.,  3.,  4.,  5.,  1.,  7.,  7.,  8.,  2.,  5., 12.,\n",
       "         4., 10., 14.,  5.,  5., 17., 13., 16., 15., 13.,  6., 12.,  9.,\n",
       "        10.,  3.,  3.,  7.,  4.,  4.,  8.,  2.,  6.,  5.,  1.,  0.,  1.,\n",
       "         0.],\n",
       "       [ 0.,  1.,  1.,  1.,  1.,  3.,  3.,  2.,  6.,  3.,  9.,  7.,  8.,\n",
       "         8.,  4., 13.,  7., 14., 11., 15., 14., 13.,  5., 13.,  7., 14.,\n",
       "         9., 10.,  5., 11.,  5.,  3.,  5.,  1.,  1.,  4.,  4.,  1.,  2.,\n",
       "         0.],\n",
       "       [ 0.,  1.,  1.,  1.,  2.,  3.,  5.,  3.,  6.,  3.,  7., 10.,  3.,\n",
       "         8., 12.,  4., 12.,  9., 15.,  5., 17., 16.,  5., 10., 10., 15.,\n",
       "         7.,  5.,  3., 11.,  5.,  5.,  6.,  1.,  1.,  1.,  1.,  0.,  2.,\n",
       "         1.],\n",
       "       [ 0.,  0.,  2.,  1.,  3.,  3.,  2.,  7.,  4.,  4.,  3.,  8., 12.,\n",
       "         9., 12.,  9.,  5., 16.,  8., 17.,  7., 11., 14.,  7., 13., 11.,\n",
       "         7., 12., 12.,  7.,  8.,  5.,  7.,  2.,  2.,  4.,  1.,  1.,  1.,\n",
       "         0.],\n",
       "       [ 0.,  0.,  1.,  2.,  4.,  2.,  2.,  3.,  5.,  7., 10.,  5.,  5.,\n",
       "        12.,  3., 13.,  4., 13.,  7., 15.,  9., 12., 18., 14., 16., 12.,\n",
       "         3., 11.,  3.,  2.,  7.,  4.,  8.,  2.,  2.,  1.,  3.,  0.,  1.,\n",
       "         1.],\n",
       "       [ 0.,  0.,  1.,  1.,  1.,  5.,  1.,  5.,  2.,  2.,  4., 10.,  4.,\n",
       "         8., 14.,  6., 15.,  6., 12., 15., 15., 13.,  7., 17.,  4.,  5.,\n",
       "        11.,  4.,  8.,  7.,  9.,  4.,  5.,  3.,  2.,  5.,  4.,  3.,  2.,\n",
       "         1.],\n",
       "       [ 0.,  0.,  2.,  2.,  3.,  4.,  6.,  3.,  7.,  6.,  4.,  5.,  8.,\n",
       "         4.,  7.,  7.,  6., 11., 12., 19., 20., 18.,  9.,  5.,  4.,  7.,\n",
       "        14.,  8.,  4.,  3.,  7.,  7.,  8.,  3.,  5.,  4.,  1.,  3.,  1.,\n",
       "         0.],\n",
       "       [ 0.,  0.,  0.,  1.,  4.,  4.,  6.,  3.,  8.,  6.,  4., 10., 12.,\n",
       "         3.,  3.,  6.,  8.,  7., 17., 16., 14., 15., 17.,  4., 14., 13.,\n",
       "         4.,  4., 12., 11.,  6.,  9.,  5.,  5.,  2.,  5.,  2.,  1.,  0.,\n",
       "         1.],\n",
       "       [ 0.,  1.,  1.,  0.,  3.,  2.,  4.,  6.,  8.,  6.,  2.,  3., 11.,\n",
       "         3., 14., 14., 12.,  8.,  8., 16., 13.,  7.,  6.,  9., 15.,  7.,\n",
       "         6.,  4., 10.,  8., 10.,  4.,  2.,  6.,  5.,  5.,  2.,  3.,  2.,\n",
       "         1.],\n",
       "       [ 0.,  0.,  2.,  3.,  3.,  4.,  5.,  3.,  6.,  7., 10.,  5., 10.,\n",
       "        13., 14.,  3.,  8., 10.,  9.,  9., 19., 15., 15.,  6.,  8.,  8.,\n",
       "        11.,  5.,  5.,  7.,  3.,  6.,  6.,  4.,  5.,  2.,  2.,  3.,  0.,\n",
       "         0.],\n",
       "       [ 0.,  1.,  2.,  2.,  2.,  3.,  6.,  6.,  6.,  7.,  6.,  3., 11.,\n",
       "        12., 13., 15., 15., 10., 14., 11., 11.,  8.,  6., 12., 10.,  5.,\n",
       "        12.,  7.,  7., 11.,  5.,  8.,  5.,  2.,  5.,  5.,  2.,  0.,  2.,\n",
       "         1.],\n",
       "       [ 0.,  0.,  2.,  1.,  3.,  5.,  6.,  7.,  5.,  8.,  9.,  3., 12.,\n",
       "        10., 12.,  4., 12.,  9., 13., 10., 10.,  6., 10., 11.,  4., 15.,\n",
       "        13.,  7.,  3.,  4.,  2.,  9.,  7.,  2.,  4.,  2.,  1.,  2.,  1.,\n",
       "         1.],\n",
       "       [ 0.,  0.,  1.,  2.,  4.,  1.,  5.,  5.,  2.,  3.,  4.,  8.,  8.,\n",
       "        12.,  5., 15.,  9., 17.,  7., 19., 14., 18., 12., 17., 14.,  4.,\n",
       "        13., 13.,  8., 11.,  5.,  6.,  6.,  2.,  3.,  5.,  2.,  1.,  1.,\n",
       "         1.],\n",
       "       [ 0.,  0.,  0.,  3.,  1.,  3.,  6.,  4.,  3.,  4.,  8.,  3.,  4.,\n",
       "         8.,  3., 11.,  5.,  7., 10.,  5., 15.,  9., 16., 17., 16.,  3.,\n",
       "         8.,  9.,  8.,  3.,  3.,  9.,  5.,  1.,  6.,  5.,  4.,  2.,  2.,\n",
       "         0.],\n",
       "       [ 0.,  1.,  2.,  2.,  2.,  5.,  5.,  1.,  4.,  6.,  3.,  6.,  5.,\n",
       "         9.,  6.,  7.,  4.,  7., 16.,  7., 16., 13.,  9., 16., 12.,  6.,\n",
       "         7.,  9., 10.,  3.,  6.,  4.,  5.,  4.,  6.,  3.,  4.,  3.,  2.,\n",
       "         1.],\n",
       "       [ 0.,  1.,  1.,  2.,  3.,  1.,  5.,  1.,  2.,  2.,  5.,  7.,  6.,\n",
       "         6.,  5., 10.,  6.,  7., 17., 13., 15., 16., 17., 14.,  4.,  4.,\n",
       "        10., 10., 10., 11.,  9.,  9.,  5.,  4.,  4.,  2.,  1.,  0.,  1.,\n",
       "         0.],\n",
       "       [ 0.,  1.,  0.,  3.,  2.,  4.,  1.,  1.,  5.,  9., 10.,  7., 12.,\n",
       "        10.,  9., 15., 12., 13., 13.,  6., 19.,  9., 10.,  6., 13.,  5.,\n",
       "        13.,  6.,  7.,  2.,  5.,  5.,  2.,  1.,  1.,  1.,  1.,  3.,  0.,\n",
       "         1.],\n",
       "       [ 0.,  1.,  1.,  3.,  1.,  1.,  5.,  5.,  3.,  7.,  2.,  2.,  3.,\n",
       "        12.,  4.,  6.,  8., 15., 16., 16., 15.,  4., 14.,  5., 13., 10.,\n",
       "         7., 10.,  6.,  3.,  2.,  3.,  6.,  3.,  3.,  5.,  4.,  3.,  2.,\n",
       "         1.],\n",
       "       [ 0.,  0.,  0.,  2.,  2.,  1.,  3.,  4.,  5.,  5.,  6.,  5.,  5.,\n",
       "        12., 13.,  5.,  7.,  5., 11., 15., 18.,  7.,  9., 10., 14., 12.,\n",
       "        11.,  9., 10.,  3.,  2.,  9.,  6.,  2.,  2.,  5.,  3.,  0.,  0.,\n",
       "         1.],\n",
       "       [ 0.,  0.,  1.,  3.,  3.,  1.,  2.,  1.,  8.,  9.,  2.,  8., 10.,\n",
       "         3.,  8.,  6., 10., 13., 11., 17., 19.,  6.,  4., 11.,  6., 12.,\n",
       "         7.,  5.,  5.,  4.,  4.,  8.,  2.,  6.,  6.,  4.,  2.,  2.,  0.,\n",
       "         0.],\n",
       "       [ 0.,  1.,  1.,  3.,  4.,  5.,  2.,  1.,  3.,  7.,  9.,  6., 10.,\n",
       "         5.,  8., 15., 11., 12., 15.,  6., 12., 16.,  6.,  4., 14.,  3.,\n",
       "        12.,  9.,  6., 11.,  5.,  8.,  5.,  5.,  6.,  1.,  2.,  1.,  2.,\n",
       "         0.],\n",
       "       [ 0.,  0.,  1.,  3.,  1.,  4.,  3.,  6.,  7.,  8.,  5.,  7., 11.,\n",
       "         3.,  6., 11.,  6., 10.,  6., 19., 18., 14.,  6., 10.,  7.,  9.,\n",
       "         8.,  5.,  8.,  3., 10.,  2.,  5.,  1.,  5.,  4.,  2.,  1.,  0.,\n",
       "         1.],\n",
       "       [ 0.,  1.,  1.,  3.,  3.,  4.,  4.,  6.,  3.,  4.,  9.,  9.,  7.,\n",
       "         6.,  8., 15., 12., 15.,  6., 11.,  6., 18.,  5., 14., 15., 12.,\n",
       "         9.,  8.,  3.,  6., 10.,  6.,  8.,  7.,  2.,  5.,  4.,  3.,  1.,\n",
       "         1.],\n",
       "       [ 0.,  1.,  2.,  2.,  4.,  3.,  1.,  4.,  8.,  9.,  5., 10., 10.,\n",
       "         3.,  4.,  6.,  7., 11., 16.,  6., 14.,  9., 11., 10., 10.,  7.,\n",
       "        10.,  8.,  8.,  4.,  5.,  8.,  4.,  4.,  5.,  2.,  4.,  1.,  1.,\n",
       "         0.],\n",
       "       [ 0.,  0.,  2.,  3.,  4.,  5.,  4.,  6.,  2.,  9.,  7.,  4.,  9.,\n",
       "        10.,  8., 11., 16., 12., 15., 17., 19., 10., 18., 13., 15., 11.,\n",
       "         8.,  4.,  7., 11.,  6.,  7.,  6.,  5.,  1.,  3.,  1.,  0.,  0.,\n",
       "         0.],\n",
       "       [ 0.,  1.,  1.,  3.,  1.,  4.,  6.,  2.,  8.,  2., 10.,  3., 11.,\n",
       "         9., 13., 15.,  5., 15.,  6., 10., 10.,  5., 14., 15., 12.,  7.,\n",
       "         4.,  5., 11.,  4.,  6.,  9.,  5.,  6.,  1.,  1.,  2.,  1.,  2.,\n",
       "         1.],\n",
       "       [ 0.,  0.,  1.,  3.,  2.,  5.,  1.,  2.,  7.,  6.,  6.,  3., 12.,\n",
       "         9.,  4., 14.,  4.,  6., 12.,  9., 12.,  7., 11.,  7., 16.,  8.,\n",
       "        13.,  6.,  7.,  6., 10.,  7.,  6.,  3.,  1.,  5.,  4.,  3.,  0.,\n",
       "         0.],\n",
       "       [ 0.,  0.,  1.,  2.,  3.,  4.,  5.,  7.,  5.,  4., 10.,  5., 12.,\n",
       "        12.,  5.,  4.,  7.,  9., 18., 16., 16., 10., 15., 15., 10.,  4.,\n",
       "         3.,  7.,  5.,  9.,  4.,  6.,  2.,  4.,  1.,  4.,  2.,  2.,  2.,\n",
       "         1.],\n",
       "       [ 0.,  1.,  2.,  1.,  1.,  3.,  5.,  3.,  6.,  3., 10., 10., 11.,\n",
       "        10., 13., 10., 13.,  6.,  6., 14.,  5.,  4.,  5.,  5.,  9.,  4.,\n",
       "        12.,  7.,  7.,  4.,  7.,  9.,  3.,  3.,  6.,  3.,  4.,  1.,  2.,\n",
       "         0.],\n",
       "       [ 0.,  1.,  2.,  2.,  3.,  5.,  2.,  4.,  5.,  6.,  8.,  3.,  5.,\n",
       "         4.,  3., 15., 15., 12., 16.,  7., 20., 15., 12.,  8.,  9.,  6.,\n",
       "        12.,  5.,  8.,  3.,  8.,  5.,  4.,  1.,  3.,  2.,  1.,  3.,  1.,\n",
       "         0.],\n",
       "       [ 0.,  0.,  0.,  2.,  4.,  4.,  5.,  3.,  3.,  3., 10.,  4.,  4.,\n",
       "         4., 14., 11., 15., 13., 10., 14., 11., 17.,  9., 11., 11.,  7.,\n",
       "        10., 12., 10., 10., 10.,  8.,  7.,  5.,  2.,  2.,  4.,  1.,  2.,\n",
       "         1.],\n",
       "       [ 0.,  0.,  2.,  1.,  1.,  4.,  4.,  7.,  2.,  9.,  4., 10., 12.,\n",
       "         7.,  6.,  6., 11., 12.,  9., 15., 15.,  6.,  6., 13.,  5., 12.,\n",
       "         9.,  6.,  4.,  7.,  7.,  6.,  5.,  4.,  1.,  4.,  2.,  2.,  2.,\n",
       "         1.],\n",
       "       [ 0.,  1.,  2.,  1.,  1.,  4.,  5.,  4.,  4.,  5.,  9.,  7., 10.,\n",
       "         3., 13., 13.,  8.,  9., 17., 16., 16., 15., 12., 13.,  5., 12.,\n",
       "        10.,  9., 11.,  9.,  4.,  5.,  5.,  2.,  2.,  5.,  1.,  0.,  0.,\n",
       "         1.],\n",
       "       [ 0.,  0.,  1.,  3.,  2.,  3.,  6.,  4.,  5.,  7.,  2.,  4., 11.,\n",
       "        11.,  3.,  8.,  8., 16.,  5., 13., 16.,  5.,  8.,  8.,  6.,  9.,\n",
       "        10., 10.,  9.,  3.,  3.,  5.,  3.,  5.,  4.,  5.,  3.,  3.,  0.,\n",
       "         1.],\n",
       "       [ 0.,  1.,  1.,  2.,  2.,  5.,  1.,  7.,  4.,  2.,  5.,  5.,  4.,\n",
       "         6.,  6.,  4., 16., 11., 14., 16., 14., 14.,  8., 17.,  4., 14.,\n",
       "        13.,  7.,  6.,  3.,  7.,  7.,  5.,  6.,  3.,  4.,  2.,  2.,  1.,\n",
       "         1.],\n",
       "       [ 0.,  1.,  1.,  1.,  4.,  1.,  6.,  4.,  6.,  3.,  6.,  5.,  6.,\n",
       "         4., 14., 13., 13.,  9., 12., 19.,  9., 10., 15., 10.,  9., 10.,\n",
       "        10.,  7.,  5.,  6.,  8.,  6.,  6.,  4.,  3.,  5.,  2.,  1.,  1.,\n",
       "         1.],\n",
       "       [ 0.,  0.,  0.,  1.,  4.,  5.,  6.,  3.,  8.,  7.,  9., 10.,  8.,\n",
       "         6.,  5., 12., 15.,  5., 10.,  5.,  8., 13., 18., 17., 14.,  9.,\n",
       "        13.,  4., 10., 11., 10.,  8.,  8.,  6.,  5.,  5.,  2.,  0.,  2.,\n",
       "         0.],\n",
       "       [ 0.,  0.,  1.,  0.,  3.,  2.,  5.,  4.,  8.,  2.,  9.,  3.,  3.,\n",
       "        10., 12.,  9., 14., 11., 13.,  8.,  6., 18., 11.,  9., 13., 11.,\n",
       "         8.,  5.,  5.,  2.,  8.,  5.,  3.,  5.,  4.,  1.,  3.,  1.,  1.,\n",
       "         0.]])"
      ]
     },
     "execution_count": 137,
     "metadata": {},
     "output_type": "execute_result"
    }
   ],
   "source": [
    "data"
   ]
  },
  {
   "cell_type": "markdown",
   "metadata": {},
   "source": [
    "### For Loops"
   ]
  },
  {
   "cell_type": "code",
   "execution_count": 138,
   "metadata": {},
   "outputs": [],
   "source": [
    "word = 'lead'\n",
    "\n",
    "# Iterators\n",
    "# Variable for Iterating"
   ]
  },
  {
   "cell_type": "code",
   "execution_count": 139,
   "metadata": {},
   "outputs": [
    {
     "data": {
      "text/plain": [
       "'lead'"
      ]
     },
     "execution_count": 139,
     "metadata": {},
     "output_type": "execute_result"
    }
   ],
   "source": [
    "word"
   ]
  },
  {
   "cell_type": "code",
   "execution_count": 141,
   "metadata": {},
   "outputs": [
    {
     "name": "stdout",
     "output_type": "stream",
     "text": [
      "l\n",
      "e\n",
      "a\n",
      "d\n"
     ]
    }
   ],
   "source": [
    "for char in word:\n",
    "    print(char)"
   ]
  },
  {
   "cell_type": "code",
   "execution_count": 142,
   "metadata": {},
   "outputs": [
    {
     "data": {
      "text/plain": [
       "'d'"
      ]
     },
     "execution_count": 142,
     "metadata": {},
     "output_type": "execute_result"
    }
   ],
   "source": [
    "char"
   ]
  },
  {
   "cell_type": "code",
   "execution_count": 143,
   "metadata": {},
   "outputs": [],
   "source": [
    "del char"
   ]
  },
  {
   "cell_type": "code",
   "execution_count": 144,
   "metadata": {},
   "outputs": [
    {
     "ename": "NameError",
     "evalue": "name 'char' is not defined",
     "output_type": "error",
     "traceback": [
      "\u001b[0;31m---------------------------------------------------------------------------\u001b[0m",
      "\u001b[0;31mNameError\u001b[0m                                 Traceback (most recent call last)",
      "\u001b[0;32m<ipython-input-144-dc9262092942>\u001b[0m in \u001b[0;36m<module>\u001b[0;34m\u001b[0m\n\u001b[0;32m----> 1\u001b[0;31m \u001b[0mchar\u001b[0m\u001b[0;34m\u001b[0m\u001b[0;34m\u001b[0m\u001b[0m\n\u001b[0m",
      "\u001b[0;31mNameError\u001b[0m: name 'char' is not defined"
     ]
    }
   ],
   "source": [
    "char"
   ]
  },
  {
   "cell_type": "code",
   "execution_count": null,
   "metadata": {},
   "outputs": [],
   "source": [
    "# Count how many letters in your name.\n",
    "# What is your variable after the loop?"
   ]
  },
  {
   "cell_type": "code",
   "execution_count": 146,
   "metadata": {},
   "outputs": [
    {
     "data": {
      "text/plain": [
       "11"
      ]
     },
     "execution_count": 146,
     "metadata": {},
     "output_type": "execute_result"
    }
   ],
   "source": [
    "len(\"hi everyone\")"
   ]
  },
  {
   "cell_type": "code",
   "execution_count": 154,
   "metadata": {},
   "outputs": [
    {
     "data": {
      "text/plain": [
       "7"
      ]
     },
     "execution_count": 154,
     "metadata": {},
     "output_type": "execute_result"
    }
   ],
   "source": [
    "name = \"Melissa\"\n",
    "count = 0\n",
    "for char in name:\n",
    "    count += 1\n",
    "    \n",
    "count"
   ]
  },
  {
   "cell_type": "code",
   "execution_count": 149,
   "metadata": {},
   "outputs": [
    {
     "data": {
      "text/plain": [
       "7"
      ]
     },
     "execution_count": 149,
     "metadata": {},
     "output_type": "execute_result"
    }
   ],
   "source": [
    "count"
   ]
  },
  {
   "cell_type": "code",
   "execution_count": 150,
   "metadata": {},
   "outputs": [],
   "source": [
    "num = 10\n",
    "num = num + 1"
   ]
  },
  {
   "cell_type": "code",
   "execution_count": 151,
   "metadata": {},
   "outputs": [
    {
     "data": {
      "text/plain": [
       "11"
      ]
     },
     "execution_count": 151,
     "metadata": {},
     "output_type": "execute_result"
    }
   ],
   "source": [
    "num"
   ]
  },
  {
   "cell_type": "code",
   "execution_count": 152,
   "metadata": {},
   "outputs": [],
   "source": [
    "num = 10\n",
    "num += 1"
   ]
  },
  {
   "cell_type": "code",
   "execution_count": 153,
   "metadata": {},
   "outputs": [
    {
     "data": {
      "text/plain": [
       "11"
      ]
     },
     "execution_count": 153,
     "metadata": {},
     "output_type": "execute_result"
    }
   ],
   "source": [
    "num"
   ]
  },
  {
   "cell_type": "code",
   "execution_count": null,
   "metadata": {},
   "outputs": [],
   "source": [
    "# Is there a function to get the length?"
   ]
  },
  {
   "cell_type": "markdown",
   "metadata": {},
   "source": [
    "### Building and Manipulating Arrays"
   ]
  },
  {
   "cell_type": "code",
   "execution_count": 165,
   "metadata": {},
   "outputs": [
    {
     "name": "stdout",
     "output_type": "stream",
     "text": [
      "[[0 1 0 1]\n",
      " [1 0 1 0]]\n",
      "[[0 1]\n",
      " [1 0]\n",
      " [0 1]\n",
      " [1 0]]\n"
     ]
    }
   ],
   "source": [
    "ownarray = numpy.array([[0, 1], [1, 0]])\n",
    "# ownarray\n",
    "\n",
    "# print(numpy.matrix.view(ownarray))\n",
    "print(numpy.hstack((ownarray, ownarray)))\n",
    "\n",
    "print(numpy.vstack((ownarray, ownarray)))\n",
    "# numpy.vstack(ownarray, ownarray)"
   ]
  },
  {
   "cell_type": "markdown",
   "metadata": {},
   "source": [
    "### Lists"
   ]
  },
  {
   "cell_type": "code",
   "execution_count": 181,
   "metadata": {
    "scrolled": true
   },
   "outputs": [
    {
     "data": {
      "text/plain": [
       "125"
      ]
     },
     "execution_count": 181,
     "metadata": {},
     "output_type": "execute_result"
    }
   ],
   "source": [
    "# Exponents\n",
    "5 ** 3"
   ]
  },
  {
   "cell_type": "code",
   "execution_count": 182,
   "metadata": {},
   "outputs": [
    {
     "data": {
      "text/plain": [
       "496"
      ]
     },
     "execution_count": 182,
     "metadata": {},
     "output_type": "execute_result"
    }
   ],
   "source": [
    "nums = [1, 3214, 123, 123, 345, 34]\n",
    "# Make a list of odd numbers.\n",
    "# Take each element to the third power and add them together.\n",
    "\n",
    "oddnums = [1, 3, 5, 7]\n",
    "summ = []\n",
    "for o in oddnums:\n",
    "    summ.append(o ** 3)\n",
    "    \n",
    "numpy.array(summ).sum()\n"
   ]
  },
  {
   "cell_type": "code",
   "execution_count": 183,
   "metadata": {},
   "outputs": [
    {
     "data": {
      "text/plain": [
       "[1, 27, 125, 343]"
      ]
     },
     "execution_count": 183,
     "metadata": {},
     "output_type": "execute_result"
    }
   ],
   "source": [
    "summ"
   ]
  },
  {
   "cell_type": "code",
   "execution_count": 184,
   "metadata": {},
   "outputs": [
    {
     "name": "stdout",
     "output_type": "stream",
     "text": [
      "496\n"
     ]
    }
   ],
   "source": [
    "sumvar = 0\n",
    "for o in oddnums:\n",
    "    sumvar = sumvar + o ** 3\n",
    "\n",
    "print(sumvar)"
   ]
  },
  {
   "cell_type": "code",
   "execution_count": 185,
   "metadata": {},
   "outputs": [
    {
     "name": "stdout",
     "output_type": "stream",
     "text": [
      "496\n"
     ]
    }
   ],
   "source": [
    "sumvar = 0\n",
    "for o in oddnums:\n",
    "    sumvar += o ** 3\n",
    "\n",
    "print(sumvar)"
   ]
  },
  {
   "cell_type": "code",
   "execution_count": 186,
   "metadata": {},
   "outputs": [
    {
     "name": "stdout",
     "output_type": "stream",
     "text": [
      "sum var is 496\n"
     ]
    }
   ],
   "source": [
    "print(\"sum var is\", sumvar)"
   ]
  },
  {
   "cell_type": "code",
   "execution_count": 176,
   "metadata": {},
   "outputs": [],
   "source": [
    "othernums = list()"
   ]
  },
  {
   "cell_type": "code",
   "execution_count": 167,
   "metadata": {},
   "outputs": [
    {
     "data": {
      "text/plain": [
       "[1, 3214, 123, 123, 345, 34]"
      ]
     },
     "execution_count": 167,
     "metadata": {},
     "output_type": "execute_result"
    }
   ],
   "source": [
    "nums"
   ]
  },
  {
   "cell_type": "code",
   "execution_count": 168,
   "metadata": {},
   "outputs": [
    {
     "data": {
      "text/plain": [
       "3214"
      ]
     },
     "execution_count": 168,
     "metadata": {},
     "output_type": "execute_result"
    }
   ],
   "source": [
    "nums[1]"
   ]
  },
  {
   "cell_type": "code",
   "execution_count": 169,
   "metadata": {},
   "outputs": [],
   "source": [
    "nums[1] = 832"
   ]
  },
  {
   "cell_type": "code",
   "execution_count": 170,
   "metadata": {},
   "outputs": [
    {
     "data": {
      "text/plain": [
       "[1, 832, 123, 123, 345, 34]"
      ]
     },
     "execution_count": 170,
     "metadata": {},
     "output_type": "execute_result"
    }
   ],
   "source": [
    "nums"
   ]
  },
  {
   "cell_type": "code",
   "execution_count": 171,
   "metadata": {},
   "outputs": [],
   "source": [
    "tups = (1, 2)"
   ]
  },
  {
   "cell_type": "code",
   "execution_count": 172,
   "metadata": {},
   "outputs": [
    {
     "data": {
      "text/plain": [
       "1"
      ]
     },
     "execution_count": 172,
     "metadata": {},
     "output_type": "execute_result"
    }
   ],
   "source": [
    "tups[0]"
   ]
  },
  {
   "cell_type": "code",
   "execution_count": 173,
   "metadata": {},
   "outputs": [
    {
     "ename": "TypeError",
     "evalue": "'tuple' object does not support item assignment",
     "output_type": "error",
     "traceback": [
      "\u001b[0;31m---------------------------------------------------------------------------\u001b[0m",
      "\u001b[0;31mTypeError\u001b[0m                                 Traceback (most recent call last)",
      "\u001b[0;32m<ipython-input-173-15357396ceeb>\u001b[0m in \u001b[0;36m<module>\u001b[0;34m\u001b[0m\n\u001b[0;32m----> 1\u001b[0;31m \u001b[0mtups\u001b[0m\u001b[0;34m[\u001b[0m\u001b[0;36m0\u001b[0m\u001b[0;34m]\u001b[0m \u001b[0;34m=\u001b[0m \u001b[0;36m92\u001b[0m\u001b[0;34m\u001b[0m\u001b[0;34m\u001b[0m\u001b[0m\n\u001b[0m",
      "\u001b[0;31mTypeError\u001b[0m: 'tuple' object does not support item assignment"
     ]
    }
   ],
   "source": [
    "tups[0] = 92"
   ]
  },
  {
   "cell_type": "code",
   "execution_count": 177,
   "metadata": {},
   "outputs": [],
   "source": [
    "mydict = {\"hi\": 1, \"hello\": 2}"
   ]
  },
  {
   "cell_type": "code",
   "execution_count": 178,
   "metadata": {},
   "outputs": [
    {
     "data": {
      "text/plain": [
       "{'hi': 1, 'hello': 2}"
      ]
     },
     "execution_count": 178,
     "metadata": {},
     "output_type": "execute_result"
    }
   ],
   "source": [
    "mydict"
   ]
  },
  {
   "cell_type": "code",
   "execution_count": 180,
   "metadata": {},
   "outputs": [
    {
     "data": {
      "text/plain": [
       "1"
      ]
     },
     "execution_count": 180,
     "metadata": {},
     "output_type": "execute_result"
    }
   ],
   "source": [
    "mydict[\"hi\"]"
   ]
  },
  {
   "cell_type": "code",
   "execution_count": null,
   "metadata": {},
   "outputs": [],
   "source": [
    "# Mutable Objects\n",
    "# strings\n",
    "# tuples\n",
    "# dictionary"
   ]
  },
  {
   "cell_type": "code",
   "execution_count": 188,
   "metadata": {},
   "outputs": [],
   "source": [
    "oddnums\n",
    "oddnums2 = oddnums\n",
    "# Making a Copy"
   ]
  },
  {
   "cell_type": "code",
   "execution_count": 189,
   "metadata": {},
   "outputs": [
    {
     "data": {
      "text/plain": [
       "[1, 3, 5, 7]"
      ]
     },
     "execution_count": 189,
     "metadata": {},
     "output_type": "execute_result"
    }
   ],
   "source": [
    "oddnums"
   ]
  },
  {
   "cell_type": "code",
   "execution_count": 190,
   "metadata": {},
   "outputs": [],
   "source": [
    "oddnums[0] = 9"
   ]
  },
  {
   "cell_type": "code",
   "execution_count": 191,
   "metadata": {},
   "outputs": [
    {
     "data": {
      "text/plain": [
       "[9, 3, 5, 7]"
      ]
     },
     "execution_count": 191,
     "metadata": {},
     "output_type": "execute_result"
    }
   ],
   "source": [
    "oddnums"
   ]
  },
  {
   "cell_type": "code",
   "execution_count": 192,
   "metadata": {},
   "outputs": [
    {
     "data": {
      "text/plain": [
       "[9, 3, 5, 7]"
      ]
     },
     "execution_count": 192,
     "metadata": {},
     "output_type": "execute_result"
    }
   ],
   "source": [
    "oddnums2"
   ]
  },
  {
   "cell_type": "code",
   "execution_count": 193,
   "metadata": {},
   "outputs": [],
   "source": [
    "oddnums2 = list(oddnums)"
   ]
  },
  {
   "cell_type": "code",
   "execution_count": 194,
   "metadata": {},
   "outputs": [],
   "source": [
    "oddnums[0] = 13"
   ]
  },
  {
   "cell_type": "code",
   "execution_count": 195,
   "metadata": {},
   "outputs": [
    {
     "data": {
      "text/plain": [
       "[13, 3, 5, 7]"
      ]
     },
     "execution_count": 195,
     "metadata": {},
     "output_type": "execute_result"
    }
   ],
   "source": [
    "oddnums"
   ]
  },
  {
   "cell_type": "code",
   "execution_count": 196,
   "metadata": {},
   "outputs": [
    {
     "data": {
      "text/plain": [
       "[9, 3, 5, 7]"
      ]
     },
     "execution_count": 196,
     "metadata": {},
     "output_type": "execute_result"
    }
   ],
   "source": [
    "oddnums2"
   ]
  },
  {
   "cell_type": "code",
   "execution_count": null,
   "metadata": {},
   "outputs": [],
   "source": [
    "# Nested Lists"
   ]
  },
  {
   "cell_type": "code",
   "execution_count": null,
   "metadata": {},
   "outputs": [],
   "source": [
    "# Mixed Data Types"
   ]
  },
  {
   "cell_type": "code",
   "execution_count": 199,
   "metadata": {},
   "outputs": [],
   "source": [
    "# Adding to a List\n",
    "oddnums.append(21)\n",
    "oddnums\n",
    "\n",
    "# Deleting from a List\n",
    "del oddnums[1]\n",
    "\n",
    "\n",
    "# Sort or Reverse\n",
    "# Index, with Skipping"
   ]
  },
  {
   "cell_type": "code",
   "execution_count": 200,
   "metadata": {},
   "outputs": [
    {
     "data": {
      "text/plain": [
       "[13, 5, 7, 21, 21, 21]"
      ]
     },
     "execution_count": 200,
     "metadata": {},
     "output_type": "execute_result"
    }
   ],
   "source": [
    "oddnums"
   ]
  },
  {
   "cell_type": "code",
   "execution_count": 201,
   "metadata": {},
   "outputs": [],
   "source": [
    "oddnums.reverse()"
   ]
  },
  {
   "cell_type": "code",
   "execution_count": 202,
   "metadata": {},
   "outputs": [
    {
     "data": {
      "text/plain": [
       "[21, 21, 21, 7, 5, 13]"
      ]
     },
     "execution_count": 202,
     "metadata": {},
     "output_type": "execute_result"
    }
   ],
   "source": [
    "oddnums"
   ]
  },
  {
   "cell_type": "code",
   "execution_count": 205,
   "metadata": {},
   "outputs": [],
   "source": [
    "oddnums.sort()"
   ]
  },
  {
   "cell_type": "code",
   "execution_count": 206,
   "metadata": {},
   "outputs": [
    {
     "data": {
      "text/plain": [
       "[5, 7, 13, 21, 21, 21]"
      ]
     },
     "execution_count": 206,
     "metadata": {},
     "output_type": "execute_result"
    }
   ],
   "source": [
    "oddnums"
   ]
  },
  {
   "cell_type": "code",
   "execution_count": 204,
   "metadata": {
    "scrolled": true
   },
   "outputs": [
    {
     "data": {
      "text/plain": [
       "(array([ 0,  1,  5,  5,  7,  9, 10, 11, 15, 20, 26, 28, 34, 40, 43, 44, 46,\n",
       "        49, 58, 59]),\n",
       " array([19, 20, 18, 22, 18, 20, 19, 22, 18, 20, 22, 21, 21, 20, 20, 21, 22,\n",
       "        18, 22, 21]))"
      ]
     },
     "execution_count": 204,
     "metadata": {},
     "output_type": "execute_result"
    }
   ],
   "source": [
    "numpy.where(data == 18)"
   ]
  },
  {
   "cell_type": "code",
   "execution_count": null,
   "metadata": {},
   "outputs": [],
   "source": [
    "# range() Function"
   ]
  },
  {
   "cell_type": "markdown",
   "metadata": {},
   "source": [
    "### Loading Many Files"
   ]
  },
  {
   "cell_type": "code",
   "execution_count": null,
   "metadata": {},
   "outputs": [],
   "source": [
    "import glob"
   ]
  },
  {
   "cell_type": "code",
   "execution_count": null,
   "metadata": {},
   "outputs": [],
   "source": [
    "# Asterisk in File Names\n",
    "# glob.glob()"
   ]
  },
  {
   "cell_type": "code",
   "execution_count": null,
   "metadata": {},
   "outputs": [],
   "source": [
    "# Looping over Files\n",
    "\n",
    "# Write a script to loop through each file, load in the array,\n",
    "# and produce a plot (your choice of mean, max, min, etc.)\n"
   ]
  },
  {
   "cell_type": "markdown",
   "metadata": {},
   "source": [
    "### Conditional Logic"
   ]
  },
  {
   "cell_type": "code",
   "execution_count": 210,
   "metadata": {},
   "outputs": [
    {
     "data": {
      "text/plain": [
       "False"
      ]
     },
     "execution_count": 210,
     "metadata": {},
     "output_type": "execute_result"
    }
   ],
   "source": [
    "# Boolean Logic\n",
    "True\n",
    "False"
   ]
  },
  {
   "cell_type": "code",
   "execution_count": 211,
   "metadata": {},
   "outputs": [
    {
     "name": "stdout",
     "output_type": "stream",
     "text": [
      "hi\n"
     ]
    }
   ],
   "source": [
    "if True:\n",
    "    print(\"hi\")"
   ]
  },
  {
   "cell_type": "code",
   "execution_count": 213,
   "metadata": {},
   "outputs": [],
   "source": [
    "# Comparison Operators\n",
    "mynum = 30"
   ]
  },
  {
   "cell_type": "code",
   "execution_count": 214,
   "metadata": {},
   "outputs": [
    {
     "data": {
      "text/plain": [
       "False"
      ]
     },
     "execution_count": 214,
     "metadata": {},
     "output_type": "execute_result"
    }
   ],
   "source": [
    "mynum < 30"
   ]
  },
  {
   "cell_type": "code",
   "execution_count": 215,
   "metadata": {},
   "outputs": [
    {
     "data": {
      "text/plain": [
       "False"
      ]
     },
     "execution_count": 215,
     "metadata": {},
     "output_type": "execute_result"
    }
   ],
   "source": [
    "mynum > 30"
   ]
  },
  {
   "cell_type": "code",
   "execution_count": 216,
   "metadata": {},
   "outputs": [
    {
     "data": {
      "text/plain": [
       "True"
      ]
     },
     "execution_count": 216,
     "metadata": {},
     "output_type": "execute_result"
    }
   ],
   "source": [
    "mynum == 30"
   ]
  },
  {
   "cell_type": "code",
   "execution_count": 217,
   "metadata": {},
   "outputs": [
    {
     "data": {
      "text/plain": [
       "False"
      ]
     },
     "execution_count": 217,
     "metadata": {},
     "output_type": "execute_result"
    }
   ],
   "source": [
    "mynum != 30"
   ]
  },
  {
   "cell_type": "code",
   "execution_count": 218,
   "metadata": {},
   "outputs": [
    {
     "data": {
      "text/plain": [
       "True"
      ]
     },
     "execution_count": 218,
     "metadata": {},
     "output_type": "execute_result"
    }
   ],
   "source": [
    "mynum >= 30"
   ]
  },
  {
   "cell_type": "code",
   "execution_count": 219,
   "metadata": {},
   "outputs": [
    {
     "data": {
      "text/plain": [
       "True"
      ]
     },
     "execution_count": 219,
     "metadata": {},
     "output_type": "execute_result"
    }
   ],
   "source": [
    "mynum > 10 and mynum < 40"
   ]
  },
  {
   "cell_type": "code",
   "execution_count": 220,
   "metadata": {},
   "outputs": [
    {
     "data": {
      "text/plain": [
       "False"
      ]
     },
     "execution_count": 220,
     "metadata": {},
     "output_type": "execute_result"
    }
   ],
   "source": [
    "mynum > 10 and mynum < 20"
   ]
  },
  {
   "cell_type": "code",
   "execution_count": 221,
   "metadata": {},
   "outputs": [
    {
     "data": {
      "text/plain": [
       "True"
      ]
     },
     "execution_count": 221,
     "metadata": {},
     "output_type": "execute_result"
    }
   ],
   "source": [
    "mynum > 10 or mynum < 20"
   ]
  },
  {
   "cell_type": "code",
   "execution_count": 223,
   "metadata": {},
   "outputs": [
    {
     "data": {
      "text/plain": [
       "0"
      ]
     },
     "execution_count": 223,
     "metadata": {},
     "output_type": "execute_result"
    }
   ],
   "source": [
    "10 % 2"
   ]
  },
  {
   "cell_type": "code",
   "execution_count": 224,
   "metadata": {},
   "outputs": [],
   "source": [
    "range?\n",
    "\n",
    "# go through all num from 0 to 100\n",
    "# check if num is divisible by both 2 AND 5\n",
    "# print a special message if it meets both criteria\n",
    "\n",
    "# if\n",
    "# elif\n",
    "# else"
   ]
  },
  {
   "cell_type": "code",
   "execution_count": null,
   "metadata": {},
   "outputs": [],
   "source": [
    "# and"
   ]
  },
  {
   "cell_type": "code",
   "execution_count": null,
   "metadata": {},
   "outputs": [],
   "source": [
    "# or"
   ]
  },
  {
   "cell_type": "markdown",
   "metadata": {},
   "source": [
    "### Writing Functions"
   ]
  },
  {
   "cell_type": "code",
   "execution_count": null,
   "metadata": {},
   "outputs": [],
   "source": [
    "# F to C is temp - 32 x 5/9\n",
    "# Using def\n",
    "# Functions take Arguments"
   ]
  },
  {
   "cell_type": "code",
   "execution_count": null,
   "metadata": {},
   "outputs": [],
   "source": [
    "# C to K is temp + 273.15"
   ]
  },
  {
   "cell_type": "code",
   "execution_count": null,
   "metadata": {},
   "outputs": [],
   "source": [
    "# Nested Functions"
   ]
  },
  {
   "cell_type": "code",
   "execution_count": null,
   "metadata": {},
   "outputs": [],
   "source": [
    "# Make a function for yesterday's analysis to produce plots\n",
    "# (of mean or max or min) from a file."
   ]
  },
  {
   "cell_type": "code",
   "execution_count": null,
   "metadata": {},
   "outputs": [],
   "source": [
    "# Write a function to detect some condition in the data of a file."
   ]
  },
  {
   "cell_type": "code",
   "execution_count": null,
   "metadata": {},
   "outputs": [],
   "source": [
    "# Adding Annnotations to Functions\n",
    "# using '''???'''"
   ]
  },
  {
   "cell_type": "code",
   "execution_count": null,
   "metadata": {},
   "outputs": [],
   "source": [
    "# Setting Default Arguments in Functions"
   ]
  },
  {
   "cell_type": "code",
   "execution_count": null,
   "metadata": {},
   "outputs": [],
   "source": [
    "# Syntax Errors\n",
    "# Variable Name Errors\n",
    "# Index Errors\n",
    "# File Errors"
   ]
  },
  {
   "cell_type": "code",
   "execution_count": null,
   "metadata": {},
   "outputs": [],
   "source": [
    "# Using Assert"
   ]
  },
  {
   "cell_type": "code",
   "execution_count": null,
   "metadata": {
    "scrolled": false
   },
   "outputs": [],
   "source": [
    "assert 3 < 2, 'not true'"
   ]
  },
  {
   "cell_type": "code",
   "execution_count": null,
   "metadata": {},
   "outputs": [],
   "source": [
    "# Write a function that uses assert statements to make sure the\n",
    "# input and output are reasonable.\n",
    "\n"
   ]
  }
 ],
 "metadata": {
  "kernelspec": {
   "display_name": "Python 3",
   "language": "python",
   "name": "python3"
  },
  "language_info": {
   "codemirror_mode": {
    "name": "ipython",
    "version": 3
   },
   "file_extension": ".py",
   "mimetype": "text/x-python",
   "name": "python",
   "nbconvert_exporter": "python",
   "pygments_lexer": "ipython3",
   "version": "3.7.3"
  }
 },
 "nbformat": 4,
 "nbformat_minor": 2
}
